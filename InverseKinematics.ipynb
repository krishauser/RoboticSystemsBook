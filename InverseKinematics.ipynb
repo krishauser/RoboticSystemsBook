{
 "cells": [
  {
   "cell_type": "markdown",
   "metadata": {
    "id": "xFK-rz5y0P0n"
   },
   "source": [
    "# Section II. MODELING\n",
    "    \n",
    "# Chapter 6. Inverse Kinematics"
   ]
  },
  {
   "cell_type": "markdown",
   "metadata": {
    "id": "anP49LQs0P0t"
   },
   "source": [
    "As opposed to forward kinematics, which computes the workspace\n",
    "coordinates of the robot given a configuration as input, inverse\n",
    "kinematics (IK) is essentially the reverse operation: computing\n",
    "configuration(s) to reach a desired workspace coordinate. This operation\n",
    "is essential to many robotics tasks, like moving a tool along a\n",
    "specified path, manipulating objects, and observing scenes from a\n",
    "desired vantage point. Because it is so important, inverse kinematics\n",
    "has been studied extensively, with many techniques available to solve it\n",
    "quickly and (relatively) reliably.\n",
    "\n",
    "However, unlike forward kinematics, inverse kinematics cannot be solved\n",
    "in a closed-form expression (in general). We shall see there may be no\n",
    "solutions, multiple solutions, or even an infinite number of solutions\n",
    "to an IK problem. As a result, the subtleties of IK must be understood\n",
    "in order to apply it effectively in practice. This chapter will discuss\n",
    "several general issues regarding IK, including the notions of task\n",
    "space, redundancy, and singularities. Both analytical and numerical\n",
    "methods to solve inverse kinematics will be presented.\n"
   ]
  },
  {
   "cell_type": "markdown",
   "metadata": {
    "id": "f5f0prW00ZZb"
   },
   "source": [
    "General discussion\n",
    "------------------\n",
    "\n",
    "<a id=\"constraint-equation\"></a>\n",
    "If we express the coordinates of some point $X$ attached to the robot as\n",
    "a vector $\\mathbf{x}$, forward kinematics allows us to compute a map\n",
    "$\\mathbf{x}(\\mathbf{q}) \\equiv f(\\mathbf{q})$ where $\\mathbf{q}$ is the robot's\n",
    "configuration. Note that this map is vector-valued. The goal of IK is to\n",
    "produce an inverse of the map $f$, or more specifically, given a desired\n",
    "value $\\mathbf{x}_D$, calculate one or more solutions $\\mathbf{q}$ such that\n",
    "$\\mathbf{x}_D = \\mathbf{x}(\\mathbf{q}) \\equiv f(\\mathbf{q})$ hold. We also say that\n",
    "$\\mathbf{x}(\\mathbf{q}) - \\mathbf{x}_D = 0$ is the *constraint equation* that $\\mathbf{q}$\n",
    "must meet.\n",
    "\n",
    "************\n",
    "\n",
    "![fig:2RIK](https://github.com/krishauser/RoboticSystemsBook/blob/master/figures/modeling/ik_2R.png?raw=1)\n",
    "\n",
    "<div class=\"figcaption\"><a name=\"fig:2RIK\">Figure 1</a>.\n",
    "Illustrating the IK problem for a 2R planar manipulator. (a) The goal\n",
    "is to find one or more configurations $\\mathbf{q}$ so that the end effector\n",
    "position $\\mathbf{x}(\\mathbf{q})$ is matched to a target position $\\mathbf{x}_D$. IK\n",
    "problems may have more than one solution, and in this case there are two\n",
    "solutions (b,c) given by $(q_1^A,q_2^A)$ and\n",
    "$(q_1^B,q_2^B)$.</div>\n",
    "\n",
    "************\n",
    "\n",
    "For instance, suppose $X$ is a point on link $N$ and has local\n",
    "coordinates $\\mathbf{x}_N$ (relative to link $N$). After the robot moves,\n",
    "link $N$ has coordinate frame $T_N(\\mathbf{q})$ relative to the world frame.\n",
    "Hence, $X$ has world coordinates $$\\mathbf{x}(\\mathbf{q}) = T_N(\\mathbf{q}) \\mathbf{x}_N.$$\n",
    "\n",
    "Given $\\mathbf{x}_D$ specifying some desired coordinates of $X$ in the world\n",
    "frame, IK would compute some $\\mathbf{q}$ so that\n",
    "$T_N(\\mathbf{q}) \\mathbf{x}_N = \\mathbf{x}_D$. Depending on the value of $\\mathbf{x}_D$ and\n",
    "the kinematic structure of the robot, there may be no solution, such as\n",
    "when the desired point is out of reach. There may also be multiple\n",
    "solutions, as illustrated in\n",
    "[Fig. 1](#fig:2RIK). A third case is when infinite solutions may\n",
    "occur, such as when the robot is *redundant*, which means that it\n",
    "possesses more degrees of freedom than the dimension of the workspace.\n"
   ]
  },
  {
   "cell_type": "markdown",
   "metadata": {
    "id": "XtqKzHPf0bJt"
   },
   "source": [
    "### Nonlinear mapping between C-space and workspace\n",
    "\n",
    "The big challenge in inverse kinematics is that the mapping from configuration space to workspace is *nonlinear*.  This means that straight lines in the joint space map to curves in the workspace, and vice versa.   In other words, the direction of motion in workspace changes continuously as the configuration moves. The plots below show some examples for the 2R robot with unit lengths.  \n",
    "\n",
    "The significance of this is that we cannot simply use the tools of linear algebra to solve IK problems.  We will need to use more sophisticated geometric and mathematical manipulations in order to find solutions.  Moreover, whereas the solution to linear systems of equations may be unique points or linear subspaces of solutions, the solution to nonlinear equations can be multiple points, or even nonlinear manifolds.  \n"
   ]
  },
  {
   "cell_type": "code",
   "execution_count": 1,
   "metadata": {
    "cellView": "form",
    "code_folding": [
     0
    ],
    "colab": {
     "base_uri": "https://localhost:8080/",
     "height": 299
    },
    "id": "nypVDni80P0x",
    "outputId": "42928169-e16d-45b4-9327-e90fc41f02ef"
   },
   "outputs": [
    {
     "data": {
      "image/png": "[encoded data removed]",
      "text/plain": [
       "<Figure size 800x400 with 2 Axes>"
      ]
     },
     "metadata": {},
     "output_type": "display_data"
    }
   ],
   "source": [
    "#@title Code for generating the figures below\n",
    "%matplotlib inline\n",
    "import matplotlib.pyplot as plt\n",
    "import numpy as np\n",
    "import math\n",
    "\n",
    "fig = plt.figure(figsize=(8,4))\n",
    "axjoint = fig.add_subplot(121)\n",
    "axwork = fig.add_subplot(122)\n",
    "\n",
    "L1,L2=1,1\n",
    "def fk(q1,q2):\n",
    "    c1 = np.cos(q1)\n",
    "    s1 = np.sin(q1)\n",
    "    c12 = np.cos(q1+q2)\n",
    "    s12 = np.sin(q1+q2)\n",
    "    return (c1*L1+c12*L2,s1*L1+s12*L2)\n",
    "\n",
    "def plotlines(qa,qb,divs=40,**kwargs):\n",
    "    q1 = np.linspace(qa[0],qb[0],divs)\n",
    "    q2 = np.linspace(qa[1],qb[1],divs)\n",
    "    x,y = fk(q1,q2)\n",
    "    axjoint.plot(q1,q2,**kwargs)\n",
    "    axwork.plot(x,y,**kwargs)\n",
    "\n",
    "axjoint.set_xlim(-math.pi,math.pi)\n",
    "axjoint.set_ylim(-math.pi,math.pi)\n",
    "axjoint.set_title(\"Configuration space\")\n",
    "axjoint.set_xlabel(r'$\\theta_1$')\n",
    "axjoint.set_ylabel(r'$\\theta_2$')\n",
    "axwork.set_xlim(-2.5,2.5)\n",
    "axwork.set_ylim(-2.5,2.5)\n",
    "axwork.set_title(\"Workspace\")\n",
    "axwork.set_xlabel('x')\n",
    "axwork.set_ylabel('y')\n",
    "plotlines((0,0),(math.pi/2,0),color='k')\n",
    "plotlines((math.pi/2,0),(math.pi/2,-2),color='b')\n",
    "plotlines((math.pi/2,-2),(-math.pi/2,-3),color='r')\n",
    "plt.show()"
   ]
  },
  {
   "cell_type": "markdown",
   "metadata": {
    "id": "S3RSDoME0P05"
   },
   "source": [
    "### Task space\n",
    "\n",
    "The coordinates $\\mathbf{x}$ are known as *task coordinates* which define the\n",
    "robot's intended goal that it should perform in Cartesian space. In the\n",
    "example above, the task consisted only of Cartesian position, but it\n",
    "could generalize to also include orientation of the final link through a\n",
    "different choice of $f$. To define a combination of position and\n",
    "orientation goal, we would append some rotation parameterization like\n",
    "Euler angles to $\\mathbf{x}$, and define the forward kinematic map:"
   ]
  },
  {
   "cell_type": "markdown",
   "metadata": {
    "id": "Y761Y1GW0P07"
   },
   "source": [
    "$$\\mathbf{x} \\equiv \\begin{bmatrix}\n",
    "  \\mathbf{x}_p \\\\\n",
    "  \\mathbf{x}_o\n",
    "\\end{bmatrix}=f(\\mathbf{q}) \\equiv\n",
    " \\begin{bmatrix}\n",
    "   T_N(\\mathbf{q})\\mathbf{x}_N \\\\\n",
    "   R_{ea}^{-1}(R_N(\\mathbf{q}))\n",
    " \\end{bmatrix}$$ "
   ]
  },
  {
   "cell_type": "markdown",
   "metadata": {
    "id": "vrp_MClo0P09"
   },
   "source": [
    "\n",
    "where $R_N(\\mathbf{q})$ is the 3x3 rotation matrix of the $N$'th link, and\n",
    "$R_{ea}^{-1}(R)$ computes the euler angle representation of the rotation\n",
    "matrix $R$ (according to some chosen convention). Here $\\mathbf{x}_p$ is the\n",
    "position of $X$ and $\\mathbf{x}_o$ is the Euler angle representation of the\n",
    "orientation of the link on which it resides.\n",
    "\n",
    "It is also possible to define more exotic task spaces to accomplish\n",
    "different goals. Suppose for example that $X$ is a point in the middle\n",
    "of the robot's gripper, and it is supposed to lift a cup of liquid\n",
    "without tipping it. If we define a local direction $\\mathbf{d}_N$ as an \"up\"\n",
    "direction perpendicular to the gripper opening direction, and $\\mathbf{z}$\n",
    "being the up direction in world coordinates, then we can specify a\n",
    "directional task constraint:\n",
    "$$\n",
    "  \\mathbf{d}(\\mathbf{q}) - \\mathbf{z} = R_N (\\mathbf{q}) \\mathbf{d}_N - \\mathbf{z} = 0\n",
    "$$\n",
    "where\n",
    "$\\mathbf{d}(\\mathbf{q})$ is the direction of the desired \"up\" vector attached to\n",
    "the gripper, but expressed in world coordinates.\n",
    "\n",
    "In general, the task space may consist of any number of position and\n",
    "orientation constraints on the robot. For example, for a $k$-legged\n",
    "robot, up to $k$ leg positions and orientation may be constrained to be\n",
    "fixed while the body moves. In any of these cases we can still express\n",
    "the constraint as a vector equation $\\mathbf{x}(\\mathbf{q}) - \\mathbf{x}_D = 0$ by\n",
    "stacking each individual constraint into a larger vector.\n"
   ]
  },
  {
   "cell_type": "markdown",
   "metadata": {
    "id": "6jtmf0HR1OZJ"
   },
   "source": [
    "### Analytical vs numerical IK\n",
    "\n",
    "There exist two general approaches for solving IK problems. In the\n",
    "*analytical* approach, the equation $\\mathbf{x}_D = f(\\mathbf{q})$ is\n",
    "mathematically inverted into a closed-form expression through symbolic\n",
    "manipulations. In the *numerical approach*, we are given an initial\n",
    "guess $\\mathbf{q}_0$ and then calculate a sequence of configurations\n",
    "$\\mathbf{q}_0,\\mathbf{q}_1,\\mathbf{q}_2,\\ldots$ such that the error\n",
    "$\\| f(\\mathbf{q}) - \\mathbf{x}_D \\|$ approaches 0. This section will focus on\n",
    "analytical methods.\n",
    "\n",
    "The advantages of the analytical method include:\n",
    "\n",
    "-   Computes all IK solutions, and determines whether no solution\n",
    "    exists.\n",
    "\n",
    "-   Once the equations are derived, solutions are very fast to compute.\n",
    "\n",
    "-   No need to define solution parameters or initial guesses $\\mathbf{q}_0$\n",
    "\n",
    "Disadvantages of the analytical method include:\n",
    "\n",
    "-   Often difficult or tedious to derive.\n",
    "\n",
    "-   Must be derived independently for robots with different kinematic\n",
    "    structures.\n",
    "\n",
    "-   Only applicable to nonredundant robots (\\# DOFs = \\# of task space\n",
    "    dimensions).\n"
   ]
  },
  {
   "cell_type": "markdown",
   "metadata": {
    "id": "49XUxqEc1Q8B"
   },
   "source": [
    "### Choosing from a set of solutions: incorporating extra constraints\n",
    "\n",
    "It is important to note that when multiple solutions exist, neither IK\n",
    "approach specifies which solution is \"best.\" Also, it is important to\n",
    "note that many of the solutions produced by IK techniques may be\n",
    "infeasible for a robot to undertake. For example, IK solutions may\n",
    "exceed joint limits, cause the robot to self-collide, or cause the robot\n",
    "to collide with environmental obstacles. In fact, the notion of \"best\"\n",
    "or \"feasible\" must be defined by some criterion external to the choice\n",
    "of task. The requirement of producing high-quality solutions can be\n",
    "considered as a *soft constraint*, while strict requirements are\n",
    "considered *hard constraints*.\n",
    "\n",
    "Soft constraints can be expressed as seeking an IK solution that\n",
    "minimizes some scalar function $g(\\mathbf{q})$. To handle soft constraints,\n",
    "in the analytical case where multiple solutions exist, we may simply\n",
    "loop through all solutions; in the numerical case, there are some\n",
    "solution techniques that (locally) minimize $g(\\mathbf{q})$ among possible\n",
    "solutions. To handle hard constraints in the analytical solution case,\n",
    "they may be checked after solving for all solutions. In the numerical\n",
    "case, it is preferable to use solution techniques that enforce these\n",
    "additional constraints.\n",
    "\n",
    "Throughout this chapter, however, additional constraints will not be\n",
    "considered unless otherwise specified.\n",
    "\n",
    "### Counting solutions\n",
    "\n",
    "For *almost all* task parameters $\\mathbf{x}$ (in a sense to be made more\n",
    "precise later) and \"usual\" kinematic structures, it is possible to coarsely\n",
    "determine the number of solutions simply by examining the number of DOFs\n",
    "of the robot and the number of constraints. Letting $n$ be the number of\n",
    "DOFs and $m$ be the number of task constraints, we have the following\n",
    "general rules:\n",
    "\n",
    "-   If $n < m$, then no solutions to $\\mathbf{x} = f(\\mathbf{q})$ exist.\n",
    "    (Overconstrained system of equations.)\n",
    "\n",
    "-   If $n = m$, then a finite number of solutions exist.\n",
    "\n",
    "-   If $n > m$, then either no solutions or an infinite number of\n",
    "    solutions exist. (Underconstrained system of equations.)\n",
    "\n",
    "In the overconstrained case, there is insufficient flexibility in the\n",
    "choice of $\\mathbf{q}$ to attain arbitrary values of $\\mathbf{x}$. In the\n",
    "underconstrained case, the robot is also called *redundant*. When the\n",
    "task exceeds the reach of the robot, there is no solution, but whenever\n",
    "a solution exists, there is a *continuum* of solutions that attain the\n",
    "same task. In fact, the solution set in general will have intrinsic\n",
    "dimension $n-m$ -- that is there will be $n-m$ independent directions of\n",
    "flexibility in configuration space while maintaining the task as fixed.\n",
    "It is often the case in redundant robots that it is difficult to\n",
    "characterize all of the solutions for a given task, although we shall\n",
    "describe methods for doing so when describing parallel robots.\n"
   ]
  },
  {
   "cell_type": "markdown",
   "metadata": {
    "id": "GzWQkqA11SqT"
   },
   "source": [
    "### Singularities\n",
    "\n",
    "The counting rules hold almost everywhere except for certain unstable\n",
    "settings of the parameter $\\mathbf{x}$, which are known as *singularities*.\n",
    "We have already discussed singularities in the context of 3D rotations,\n",
    "where a rotation may have multiple representations. In nonredundant IK,\n",
    "a singularity occurs when the task has an infinite number of solutions,\n",
    "or precisely one solution. In redundant IK, a singularity is observed as\n",
    "a change in the intrinsic dimensionality of the solution set.\n",
    "\n",
    "Singularities are *unstable* in the sense that any open neighborhood\n",
    "containing a singular task point $\\mathbf{x}$ will have different numbers of\n",
    "solutions. In other words, if $\\mathbf{x}$ were perturbed slightly, the\n",
    "number of solutions will almost certainly change. Non-singular points do\n",
    "not have this problem: for a non-singular point $\\mathbf{x}$, there will\n",
    "exist an open neighborhood of $\\mathbf{x}$ for which the number of solutions\n",
    "remains constant.\n",
    "\n",
    "In practical terms, singularities usually avoided during IK for a number\n",
    "of reasons: as a singularity is approached in task space, the\n",
    "solution configurations change increasingly rapidly, and the solution\n",
    "set may change size, making it challenging to produce smooth movements.\n",
    "There is a straightforward way of computing whether a configuration is\n",
    "at a singularity via a condition about the task's *Jacobian matrix*.\n",
    "This will be discussed in the [section on Jacobians](#The-Jacobian-matrix). \n"
   ]
  },
  {
   "cell_type": "markdown",
   "metadata": {
    "id": "lMqkjTck0P0-"
   },
   "source": [
    "Analytical IK in 2D\n",
    "-------------------\n",
    "\n",
    "Let us begin by deriving analytical solutions for most common planar\n",
    "robots.\n"
   ]
  },
  {
   "cell_type": "markdown",
   "metadata": {
    "id": "FQlM6yMP1aBK"
   },
   "source": [
    "### 2R manipulator\n",
    "\n",
    "************\n",
    "\n",
    "![fig:2RIKb](https://github.com/krishauser/RoboticSystemsBook/blob/master/figures/modeling/ik_2Rb.png?raw=1)\n",
    "\n",
    "<div class=\"figcaption\"><a name=\"fig:2RIKb\">Figure 2</a>\n",
    "The key steps for solving the planar 2R IK problem. (a) Determine a\n",
    "value for $q_2$ that puts the end effector point on the circle centered\n",
    "on the origin with radius equal to the distance between the origin and\n",
    "the target point. Here there are 2 solutions. Then, determine the values of $q_1$\n",
    "that the end effector is rotated onto the target, with $q_2$ fixed to\n",
    "its first (b) and second (c)\n",
    "solutions.</div>\n",
    "\n",
    "************\n",
    "\n",
    "Consider a 2R manipulator with the first joint located at the origin,\n",
    "and at the reference configuration the second joint is located $L_1$\n",
    "distance away along the $x$ axis. The end effector is located $L_2$\n",
    "distance away from the second joint along the $x$ axis.\n",
    "\n",
    "With this definition, the forward kinematics equations in the previous\n",
    "chapter show that the world coordinates of the end effector at\n",
    "configuration $\\mathbf{q} = (q_1,q_2)$ are given by:\n",
    "$$\\begin{split}\n",
    "\\mathbf{x}(\\mathbf{q}) &= R(q_1)\\left(R(q_2) \\begin{bmatrix} L_2 \\\\ 0 \\end{bmatrix} + \\begin{bmatrix} L_1 \\\\ 0 \\end{bmatrix} \\right) \\\\\n",
    " & = R(q_1) \\begin{bmatrix}L_1 + c_2 L_2 \\\\ s_2 L_2 \\end{bmatrix} = \\begin{bmatrix} c_1(L_1 + c_2 L_2) - s_1 s_2 L_2 \\\\ s_1(L_1 + c_2 L_2) + c_1 s_2 L_2 \\end{bmatrix}\n",
    "\\end{split}\n",
    "$$\n",
    "where $c_i = \\cos q_i$ and $s_i = \\sin q_i$, for $i = 1,2$.\n",
    "\n",
    "Suppose we wish to move this $\\mathbf{x}$ to the target point $\\mathbf{x}_D$.\n",
    "Thinking geometrically, we observe that the only joint controlling the\n",
    "norm $\\| \\mathbf{x}(\\mathbf{q}) \\|$ (i.e., the distance from the end effector to\n",
    "the origin) is $q_2$. See\n",
    "[Fig. 2](#fig:2RIKb)(a) for an illustration. As a result,\n",
    "$\\| \\mathbf{x}(q_1,q_2) \\| = \\| \\mathbf{x}(0,q_2) \\|$ which results in the\n",
    "simplified calculation:\n",
    "$$\n",
    "  \\| \\mathbf{x}(q_1,q_2) \\| = \\sqrt{(L_1 + c_2 L_2)^2 + (s_2 L_2)^2}.\n",
    "$$\n",
    "Since\n",
    "this norm must match the norm of $\\mathbf{x}_D$, we require:\n",
    "$$\n",
    "  \\| \\mathbf{x}_D \\|^2 = (L_1 + c_2 L_2)^2 + (s_2 L_2)^2 = L_1^2 + 2 c_2 L_1 L_2 + c_2^2 L_2^2 + s_2^2 L_2^2 = L_1^2 + 2 c_2 L_1 L_2 + L_2^2\n",
    "$$\n",
    "where in the last equality we've used the fact that $c_i^2 + s_i^2 = 1$.\n",
    "Now, the only unknown quantity in this equation is $c_2$. Solving for\n",
    "$c_2$, we obtain:\n",
    "$$c_2 = \\frac{\\| \\mathbf{x}_D \\|^2 - L_1^2 - L_2^2}{2 L_1 L_2}.$$\n",
    "\n",
    "Based on the properties of the cosine, the right hand side (r.h.s.) of\n",
    "this equation must be in the range $[-1,1]$ for a solution to exist. If\n",
    "it were identically $\\pm 1$, then one solution would exist, namely 0 or\n",
    "$\\pi$, and otherwise two solutions exist, namely\n",
    "$$q_2 = \\pm \\cos^{-1} \\left( \\frac{\\| \\mathbf{x}_D \\|^2 - L_1^2 - L_2^2}{2 L_1 L_2} \\right).$$\n",
    "The positive and negative solutions are known as *elbow down* and *elbow\n",
    "up* solutions, respectively (with \"down\" and \"up\" indicating the\n",
    "direction that the elbow is facing, not the rotation of the forearm).\n",
    "For robots with anthropomorphic joint limits it is possible to restrict\n",
    "further consideration to only one of these solutions; otherwise, both\n",
    "solutions must be considered.\n",
    "\n",
    "Examining the case in which no solution exists, if the r.h.s. were\n",
    "greater than 1, then $\\| \\mathbf{x}_D \\|^2 - L_1^2 - L_2^2 > 2 L_1 L_2$, or\n",
    "in other words:\n",
    "$$\n",
    "  \\| \\mathbf{x}_D \\|^2 > L_1^2 + 2 L_1 L_2 + L_2^2 = (L_1 + L_2)^2\n",
    "$$\n",
    "which\n",
    "indicates that the desired point exceeds the reachable range of the\n",
    "manipulator.\n",
    "\n",
    "If on the other hand, the r.h.s. were less than -1, then\n",
    "$\\| \\mathbf{x}_D \\|^2 - L_1^2 - L_2^2 < - 2 L_1 L_2$, in other words\n",
    "$$\n",
    "  \\| \\mathbf{x}_D \\|^2 < L_1^2 - 2 L_1 L_2 + L_2^2 = (L_1 - L_2)^2.\n",
    "$$\n",
    "For this to be possible, we must have the link lengths unequal, and the\n",
    "target point is within a circle of radius $|L_1 - L_2|$ centered at the\n",
    "origin.\n",
    "\n",
    "If we have determined that there exists one or more solutions for the\n",
    "second joint, $q_2^{(k)}$ with $k=1$ or $2$, for each solution we can\n",
    "determine a value of $q_1^{(k)}$ so that the end effector reaches the\n",
    "proper heading toward $\\mathbf{x}_D$. Let the heading of $\\mathbf{x}_D$ be denoted\n",
    "$\\theta \\equiv atan2(x_y,x_x)$.\n",
    "\n",
    "Observe that if $q_1^{(k)}$ were to be set to 0, then the end effector\n",
    "would have heading\n",
    "$\\theta^{(k)} = atan2(L_2 \\sin q_2^{(k)}, L_1 + L_2 \\cos q_2^{(k)})$. We\n",
    "simply choose $q_1^k$ to compensate for the difference:\n",
    "$q_1^{(k)} = \\theta - \\theta^k$. See\n",
    "[Fig. 2](#fig:2RIKb)(b) and (c) for an illustration of this procedure.\n",
    "\n",
    "The above description can be converted into a procedure that computes\n",
    "the set of all solutions, with pseudocode listed in \n",
    "Algorithm 2RIK below.\n",
    "\n",
    "*******************\n",
    "**Algorithm 2RIK**\n",
    "\n",
    "1. $c_2 \\gets \\frac{\\| \\mathbf{x}_D \\|^2 - L_1^2 - L_2^2}{2 L_1 L_2}$.\n",
    "\n",
    "2. **if** $|c_2|>1$ **then** **return** $\\emptyset$.\n",
    "\n",
    "3. **if** $c_2 = 1$ **then** **return** $\\{ (atan2(x_y,x_x),0) \\}$. \n",
    "\n",
    "4. **if** $c_2 = -1$ and $\\mathbf{x}_D \\neq 0$ **then** **return** $\\{ (atan2(x_y,x_x),\\pi) \\}$.\n",
    "\n",
    "5. **if** $c_2 = -1$ and $\\mathbf{x}_D = 0$ **then** **return** $\\{ (q_1,\\pi) \\quad | \\quad q_1 \\in [0,2\\pi) \\}$\n",
    "\n",
    "6. Otherwise, let $q_2^{(1)} \\gets \\cos^{-1} c_2$ and $q_2^{(2)} \\gets -\\cos^{-1} c_2$.\n",
    "\n",
    "7. Compute $\\theta = atan2(x_y,x_x)$.\n",
    "\n",
    "8. **for** $k \\in \\{1,2\\}$ **do**\n",
    "\n",
    "9. &nbsp;&nbsp;&nbsp; $q_1^{(k)} = \\theta - atan2(L_2 \\sin q_2^{(k)}, L_1 + L_2 \\cos q_2^{(k)})$.\n",
    "\n",
    "10. **return** $\\{ (q_1^{(1)}, q_2^{(1)}), (q_1^{(2)}, q_2^{(2)}) \\}$.\n",
    "\n",
    "*******************\n",
    "\n",
    "Note that the implementation of this function in\n",
    "a programming language will need to handle the return value with some\n",
    "care; in particular, the return value in line 5 is an infinite set. A\n",
    "practical way of doing so would be to return some status flag indicating\n",
    "whether the result is finite or infinite."
   ]
  },
  {
   "cell_type": "markdown",
   "metadata": {
    "id": "hAqiWur_1dBH"
   },
   "source": [
    "### RP manipulator\n",
    "\n",
    "As a second example, consider a manipulator with one revolute and one\n",
    "prismatic joint extending along the $x$ axis. If the reference position\n",
    "has both the revolute and prismatic joint at the origin, the\n",
    "configuration $(q_1,q_2)$ simply gives the polar coordinates of the\n",
    "second link. Suppose the end effector were specified with a distance\n",
    "$L_2$ from the origin on the $x$ axis.\n",
    "\n",
    "Then, if the polar coordinates of the target point $\\mathbf{x}_D$ are\n",
    "$(\\theta,d) \\equiv (atan2(x_y,x_x),\\|\\mathbf{x}_D\\|)$, then the two solutions\n",
    "are $\\mathbf{q}^{(1)} = (\\theta, d - L_2)$ and\n",
    "$\\mathbf{q}^{(2)} = (\\theta + \\pi, - d + L_2)$. \n"
   ]
  },
  {
   "cell_type": "markdown",
   "metadata": {
    "id": "A7C3nH-t0P0_"
   },
   "source": [
    "Analytical IK in 3D\n",
    "-------------------\n",
    "\n",
    "In 3D, either 3 or 6 DOF are required of the robot to achieve position\n",
    "or position+orientation task spaces, respectively. Here we shall cover a\n",
    "few simple cases, since more general cases may not have closed-form\n",
    "solutions."
   ]
  },
  {
   "cell_type": "markdown",
   "metadata": {
    "id": "7l5ct5xC1hJc"
   },
   "source": [
    "### 3R manipulator\n",
    "\n",
    "We consider a 3R manipulator with the first joint rotating about the $z$\n",
    "axis, the second joint rotating about the $y$ axis with an offset of\n",
    "$L_1$ along the $z$ axis, and with both axes intersecting. The third\n",
    "joint is offset by a distance $L_2$ along the $x$ axis at the reference\n",
    "configuration, and rotates about the $y$ axis as well. The end effector\n",
    "is offset by a distance $L_3$ about the $x$ axis.\n",
    "\n",
    "With this definition the end effector's world coordinates are:"
   ]
  },
  {
   "cell_type": "markdown",
   "metadata": {
    "id": "bPifkYs30P1B"
   },
   "source": [
    "$$\n",
    "\\begin{aligned}\n",
    "\\mathbf{x}(\\mathbf{q}) = & R_z(q_1) R_y(q_2) \\begin{bmatrix} L_2 + c_3 L_3 \\\\ 0 \\\\ -s_3 L_3 \\end{bmatrix}   \\\\\n",
    "= &R_z(q_1) \\begin{bmatrix}c_2 (L_2 + c_3 L_3) - s_2 s_3 L_3 \\\\ 0 \\\\ -s_2 (L_2 + c_3 L_3) - c_2 s_3 L_3 \\end{bmatrix} \n",
    "\\\\\n",
    "= & \\begin{bmatrix} c_1 (c_2 (L_2 + c_3 L_3) - s_2 s_3 L_3) \\\\ s_1 (c_2 (L_2 + c_3 L_3) - s_2 s_3 L_3) \\\\ L_1 - s_2 (L_2 + c_3 L_3) - c_2 s_3 L_3 \\end{bmatrix}. \\end{aligned}\n",
    "$$"
   ]
  },
  {
   "cell_type": "markdown",
   "metadata": {
    "id": "UtG8mryI0P1C"
   },
   "source": [
    "We wish to match this to the target\n",
    "$\\mathbf{x}_D = (x_D,y_D,z_D)$.\n",
    "\n",
    "************\n",
    "\n",
    "![fig:3RIK](https://github.com/krishauser/RoboticSystemsBook/blob/master/figures/modeling/ik_3R.png?raw=1)\n",
    "\n",
    "<div class=\"figcaption\"><a name=\"fig:3RIK\">Figure 3</a>. \n",
    "(a) Inverse kinematics for a 3R robot reaching a point in space. (b)\n",
    "The first joint angle is determined by the heading of the target point\n",
    "in the $x-y$ plane (up to an addition of $\\pi$). (c) The second and\n",
    "third angles are determined by rotating the frame of reference to the\n",
    "plane containing the target point and the $z$ axis, and determining\n",
    "solutions for the planar 2R IK problem in this plane. (Note that since\n",
    "$q_2$ and $q_3$ rotate about the $y$ axis, they are measured by the\n",
    "clockwise angle.)</div>\n",
    "\n",
    "************\n",
    "\n",
    "\n",
    "Imagine observing the robot along a plane orthogonal to the 2nd and 3rd\n",
    "joint axes. The rotated $x$ coordinate is the term\n",
    "$\\sqrt{x_D^2 + y_D^2}$, and the rotated $z$ coordinate remains the same,\n",
    "$z_D$. In this rotated system, we can use the planar 2R solution to\n",
    "calculate the possible values of $q_2$ and $q_3$. However, we should\n",
    "accommodate the fact that joints 2 and 3 rotate about the $y$ axis, and\n",
    "positive rotations about the $y$ axis causes a negative movement in $z$.\n",
    "Namely, we should compute all values of\n",
    "$$\n",
    "  (q_2,q_3) \\in 2RIK(L_2,L_3,(\\sqrt{x_D^2 + y_D^2},-z_D+L_1)).\n",
    "$$\n",
    "This contributes up to 2 solutions. For each of those solutions, the value\n",
    "$q_1 = atan2(y_D,x_D)$ orients the first joint in the proper direction.\n",
    "[Fig. 3](#fig:3RIK) illustrates these solutions.\n",
    "\n",
    "However, there is a small catch: we could have also modified $q_1$ by a\n",
    "factor of $\\pi$, giving a flipped coordinate system for the 2R solution\n",
    "where the robot \"reaches backwards\". As a result, there are 2 additional\n",
    "solutions:\n",
    "$$(q_2^\\prime,q_3^\\prime) \\in 2RIK(L_2,L_3,(-\\sqrt{x_D^2 + y_D^2},-z_D+L_1)).$$\n",
    "each associated with the value $q_1^\\prime = atan2(y_D,x_D) + \\pi$.\n",
    "Hence, altogether, up to 4 solutions exist."
   ]
  },
  {
   "cell_type": "markdown",
   "metadata": {
    "id": "KrgZeU2S1mdw"
   },
   "source": [
    "### 2RP spherical manipulator\n",
    "\n",
    "For the 2RP robot [described in\n",
    "the last chapter](Kinematics.ipynb#Examples) we obtained the end effector point"
   ]
  },
  {
   "cell_type": "markdown",
   "metadata": {
    "id": "87mYmFCL0P1D"
   },
   "source": [
    "$$\n",
    "\\mathbf{x}(\\mathbf{q}) = \\begin{bmatrix} c_1 c_2 q_3 \\\\ s_1 c_2 q_3 \\\\ -s_2 q_3 \\end{bmatrix}.\n",
    "$$"
   ]
  },
  {
   "cell_type": "markdown",
   "metadata": {
    "id": "07bceLU60P1H"
   },
   "source": [
    "To match a target point $\\mathbf{x}_D = (x_D,y_D,z_D)$ we can observe that\n",
    "the norm $\\| \\mathbf{x}(\\mathbf{q}) \\|$ is simply $|q_3|$. It is very likely that\n",
    "only positive values of $q_3$ are valid joint values, and if so we can\n",
    "simply set $q_3 = \\| \\mathbf{x}_D \\|$.\n",
    "\n",
    "If $\\mathbf{x}_D = 0$, then we have a singularity in which any setting of\n",
    "$q_1$ and $q_2$ will satisfy the IK constraint. Otherwise, we solve the\n",
    "term $s_2 = z_D/\\|\\mathbf{x}_D\\|$ with $q_2 = \\sin^{-1}(z_D/\\|\\mathbf{x}_D\\|)$ and\n",
    "the alternative solution\n",
    "$q_2^\\prime = \\pi - \\sin^{-1}(z_D/\\|\\mathbf{x}_D\\|)$. Finally, we see the\n",
    "direction in $x-y$ plane is controlled by the first joint. So, $q_1$ can\n",
    "be solved with $atan2(y_D/c_2,x_D/c_2)$. The exception is if\n",
    "$x_D = y_D = 0$, in which any solution of $q_1$ works."
   ]
  },
  {
   "cell_type": "markdown",
   "metadata": {
    "id": "rpKw_rO71qBn"
   },
   "source": [
    "### 3P3R manipulators (6-axis CNC) \n",
    "\n",
    "Consider a 6DOF gantry that which consists of a $x,y,z$ translation\n",
    "stage and then a rotation stage with a wrist about axes $z,y,z$, all\n",
    "three of which are collocated. Without loss of generality, let\n",
    "$(q_1,q_2,q_3)$ be properly offset to give the center of the wrist in\n",
    "world coordinates. Suppose the tool center point is at point\n",
    "$(x_W,y_W,z_W)$ in wrist coordinates. Typically, for drilling and other\n",
    "rotary operations we have $x_W=y_W$ so that $q_6$ can operate as the\n",
    "drilling degree of freedom.\n",
    "\n",
    "In this problem the target is not just to reach a single point\n",
    "$(x_D,y_D,z_D)$ in space, but also a desired tool orientation $R_D \\in$\n",
    "SO(3). Here, the target task coordinate $\\mathbf{x}_D$ contains both position\n",
    "and orientation and represents a 6D task space because the inherent\n",
    "dimensionality of SO(3) is 3.\n",
    "\n",
    "Since the only degrees of freedom that affect orientation are $q_4$,\n",
    "$q_5$, and $q_6$, we can solve for the ZYZ euler angles to achieve\n",
    "$R_D$. First, let us derive the forward kinematics:  "
   ]
  },
  {
   "cell_type": "markdown",
   "metadata": {
    "id": "BV_Q3KHU0P1J"
   },
   "source": [
    "$$\\begin{aligned}\n",
    "R(q_4,q_5,q_6) &= R_z(q_4)R_y(q_5)R_z(q_6) \\\\\n",
    " & = \\left[\\begin{array}{ccc}\n",
    "   c_4 & -s_4 & 0\\\\\n",
    "   s_4 & c_4 & 0\\\\\n",
    "   0 & 0 & 1\n",
    "   \\end{array} \\right]\n",
    "   \\left[\\begin{array}{ccc}\n",
    "   c_5 & 0 & s_5\\\\\n",
    "   0 & 1 & 0\\\\\n",
    "   -s_5 & 0 & c_5\n",
    "   \\end{array} \\right]\n",
    "   \\left[\\begin{array}{ccc}\n",
    "   c_6 & -s_6 & 0\\\\\n",
    "   s_6 & c_6 & 0\\\\\n",
    "   0 & 0 & 1\n",
    "   \\end{array} \\right] \\\\\n",
    " & = \\left[\\begin{array}{ccc}\n",
    "   c_4 & -s_4 & 0\\\\\n",
    "   s_4 & c_4 & 0\\\\\n",
    "   0 & 0 & 1\n",
    "   \\end{array} \\right]\n",
    "   \\left[\\begin{array}{ccc}\n",
    "   c_5 c_6  & -c_5 s_6 & s_5 \\\\\n",
    "   s_6      & c_6 & 0\\\\\n",
    "   -s_5 c_6 & s_5 s_6 & c_5\n",
    "   \\end{array} \\right] \\\\\n",
    " &\n",
    "  = \\left[\\begin{array}{ccc}\n",
    "   c_4 c_5 c_6  -s_4 s_6  & -c_4 c_5 s_6 - s_4 c_6 & c_4 s_5 \\\\\n",
    "   s_4 c_5 c_6  +c_4 s_6  & -s_4 c_5 s_6 + c_4 s_6 & s_4 s_5 \\\\\n",
    "   -s_5 c_6 & s_5 s_6 & c_5\n",
    "   \\end{array} \\right].\n",
    "\\end{aligned}\n",
    "\\label{eq:ZYZEulerAngles}$$ "
   ]
  },
  {
   "cell_type": "markdown",
   "metadata": {
    "id": "kiJM0LC30P1L"
   },
   "source": [
    "Let us denote\n",
    "$$R_D = \\left[\\begin{array}{ccc}\n",
    "r_{11} & r_{12} & r_{13} \\\\\n",
    "r_{21} & r_{22} & r_{23} \\\\\n",
    "r_{31} & r_{32} & r_{33} \n",
    "\\end{array}\n",
    "\\right].$$\n",
    "The simplest entry to solve is $r_{33} = c_5$, so\n",
    "$q_5 = \\pm \\cos^{-1}(r_{33})$. If $r_{33}$ is 1, then $q_5 = 0$ is a\n",
    "singularity and there are an infinite number of solutions for $q_4$ and\n",
    "$q_6$ that satisfy $q_4 + q_6 = atan2(r_{21},r_{11})$. Otherwise, we can\n",
    "calculate the two possible values $s_5 = \\sin q_5$ and determine\n",
    "$q_4 = atan2(r_{23},r_{13})$ and $q_6 = atan2(r_{32},-r_{31})$.\n",
    "\n",
    "Once these values are determined, it remains to be seen where to place\n",
    "the *wrist* so that the tool is at $(x_D,y_D,z_D)$. We know that\n",
    "$$\\mathbf{x}(\\mathbf{q}) = \\begin{bmatrix}q_1 \\\\ q_2 \\\\ q_3 \\end{bmatrix} + R(q_4,q_5,q_6)\\begin{bmatrix}x_W \\\\ y_W \\\\ z_W \\end{bmatrix}$$\n",
    "which should be equated to $(x_D,y_D,z_D)$. Since we know\n",
    "$R(q_4,q_5,q_6) = R_D$, we can compute the matrix-vector multiply and\n",
    "subtract from both sides to obtain\n",
    "$$\\begin{bmatrix}q_1 \\\\ q_2 \\\\ q_3 \\end{bmatrix} = \\begin{bmatrix}{x_D} \\\\ {y_D} \\\\ {z_D} \\end{bmatrix} - R_D\\begin{bmatrix}x_W \\\\ y_W \\\\ z_W \\end{bmatrix}.$$"
   ]
  },
  {
   "cell_type": "markdown",
   "metadata": {
    "id": "irgvk85u1tiz"
   },
   "source": [
    "### 6R manipulators with orthogonal axes\n",
    "\n",
    "*************\n",
    "\n",
    "![fig:6RIK](figures/modeling/ik_6R.png)\n",
    "\n",
    "<div class=\"figcaption\"><a name=\"fig:6RIK\">Figure 4</a>\n",
    "(a) A 6DOF industrial robot with two shoulder DOFs, an elbow, and\n",
    "three wrist DOFs. The order of rotational axes from base to tip are\n",
    "ZYYXYX. The task space consists of both position and orientation. (b)\n",
    "The first step solves $q_1$, $q_2$, and $q_3$ by determining the wrist\n",
    "location and solving a 3R IK problem. (c) Then, the residual relative\n",
    "rotation between the end effector and \"forearm\" is solved using the\n",
    "solution to XYX Euler angles.</div>\n",
    "\n",
    "*************\n",
    "\n",
    "Most 6R industrial manipulators are structured so that there is one\n",
    "elbow joint, a shoulder with 2 orthogonal intersecting axes, and a wrist\n",
    "with 3 orthogonal intersecting axes. One such layout is shown in\n",
    "[Figure 4](#fig:6RIK)(a). Another possible layout is a shoulder with 3\n",
    "axes, and a wrist with 2 axes. But let us first consider how to address\n",
    "the former, and we leave deriving an analytical solution for the 3-axis\n",
    "shoulder, 2-axis wrist manipulator as an exercise.\n",
    "\n",
    "An end effector position for an industrial manipulator is also known as\n",
    "the *tool center point* . Since the origin of the last link's\n",
    "coordinates are inside its joint, the tool center point is defined by\n",
    "some local coordinates $\\mathbf{x}_6$ given its offset from the last link,\n",
    "which are measured or calibrated for any end effector attachment. From\n",
    "this information we define the world coordinates of the tool center\n",
    "point $$\\mathbf{x}_{tcp}(\\mathbf{q}) = T_6(\\mathbf{q})\\mathbf{x}_6$$ We wish to match\n",
    "$\\mathbf{x}_{tcp}$ with a desired position $\\mathbf{x}_D$ and the last link should\n",
    "have orientation $R_D$.\n",
    "\n",
    "The basic idea of the solution technique is that the wrist position can\n",
    "be first uniquely determined from this information. Specifically, we\n",
    "assume that we will eventually be able to solve the rotation\n",
    "$R_6(\\mathbf{q}) = R_D$. Then, the constraint equation becomes\n",
    "$$\\mathbf{x}_D = \\mathbf{x}_{tcp}(\\mathbf{q}) = R_6(\\mathbf{q}) \\mathbf{x}_6 + \\mathbf{t}_6(\\mathbf{q})$$\n",
    "Where $\\mathbf{t}_6(\\mathbf{q})$ is the wrist position. In other words,\n",
    "$\\mathbf{t}_6(\\mathbf{q}) = \\mathbf{x}_D - R_D \\mathbf{x}_6$.\n",
    "\n",
    "We then notice that the wrist position is only affected by the first\n",
    "three links: $q_1$, $q_2$, and $q_3$. In fact, this is simply a matter\n",
    "of solving a 3R IK problem with target $\\mathbf{x}_D - R_D \\mathbf{x}_6$! As\n",
    "before, we have up to 4 solutions for $(q_1,q_2,q_3)$.\n",
    "\n",
    "Now, once we have determined a set of these values, we can determine a\n",
    "rotation of the third link, $R_3(q_1,q_2,q_3)$. The remaining job for\n",
    "$q_4$, $q_5$, and $q_6$ is to rotate the rest of the way to $R_D$. Since\n",
    "all of the reference frames are oriented with the world frame, we need\n",
    "to satisfy\n",
    "$$\n",
    "  R_6(\\mathbf{q}) = R_3(q_1,q_2,q_3) R_x(q_4) R_y(q_5) R_x(q_6) = R_D.\n",
    "$$\n",
    "By\n",
    "premultiplying by $R_3(q_1,q_2,q_3)$, we obtain an XYX Euler angle\n",
    "conversion problem from the relative rotation matrix\n",
    "$R_3^{-1}(q_1,q_2,q_3)R_D$. This conversion is similar to the solution\n",
    "for the ZYZ Euler angle conversion problem described above, and has 2\n",
    "solutions (except at singularities).\n",
    "\n",
    "In all, since there are up to 4 solutions for $(q_1,q_2,q_3)$, and for\n",
    "each solution there are 2 solutions for $(q_4,q_5,q_6)$, there are a\n",
    "total of 8 solutions for $\\mathbf{q}$ (except at singularities). "
   ]
  },
  {
   "cell_type": "markdown",
   "metadata": {
    "id": "0GKOmVTd0P1N"
   },
   "source": [
    "Finding all solutions for redundant and parallel robots\n",
    "-------------------------------------------------------\n",
    "\n",
    "In the case of redundant robots, we may wish to determine some\n",
    "representation of the entire IK solution set. This operation is also\n",
    "useful for determining the configuration space of parallel robots.\n",
    "\n",
    "<a id=\"self-motion-manifold\"></a>\n",
    "The set of solutions is known as the *self-motion manifold*, and\n",
    "instantaneous motions that preserve the task coordinate are known as\n",
    "*null-space motions*. A *manifold* is defined as a set that is locally\n",
    "homeomorphic to a disk in Cartesian space. We have already seen the\n",
    "topological spaces $R^n$, $S_2$, $SO(3)$ etc., which are also manifolds."
   ]
  },
  {
   "cell_type": "markdown",
   "metadata": {
    "id": "d6mw614E12F-"
   },
   "source": [
    "### Redundant robots\n",
    "\n",
    "The $n-m$ degrees of freedom remaining in a redundant robot span the\n",
    "dimensions of the self-motion manifold. It is possible to choose $n-m$\n",
    "joints of the robot, say $q_1,\\ldots,q_{n-m}$, and fix them at certain\n",
    "values, and then solve an analytical IK problem to determine the\n",
    "solution for the remaining $m$ DOFs. The former values\n",
    "$q_1,\\ldots,q_{n-m}$ are known as the independent DOFs while the\n",
    "remainder are known as the dependent DOFs.\n",
    "\n",
    "The choice of independent DOFs is somewhat arbitrary, but is usually\n",
    "best chosen to lead to simple analytical IK solutions for the dependent\n",
    "DOFs. In any case, the independent joints *parameterize* the self-motion\n",
    "manifold. The main difficulty in expressing this solution space is to\n",
    "determine a suitable domain of the independent DOFs *such that an\n",
    "analytical solution exists* for the depending DOFs.\n",
    "\n",
    "As a very simple example, let us consider the planar 2R robot with a\n",
    "task where only the $x$ coordinate of its end effector is constrained to\n",
    "some value $x_D$.\n",
    "\n",
    "That is, we wish to determine the set of solutions to the constraint\n",
    "$$x_D = c_1(L_1 + c_2 L_2) - s_1 s_2 L_2  = c_1 L_1 + c_{12} L2$$\n",
    "$c_{12} = \\cos (q_1 + q_2)$ and with $x_D$ fixed at some value. Plotted\n",
    "in the plane $(q_1,q_2)$, the solution set is an ovoid-like 1D curve in\n",
    "2D space.  "
   ]
  },
  {
   "cell_type": "code",
   "execution_count": 2,
   "metadata": {
    "cellView": "form",
    "code_folding": [
     0
    ],
    "colab": {
     "base_uri": "https://localhost:8080/",
     "height": 295
    },
    "id": "ytJ-qR260P1O",
    "outputId": "9b29e6f1-e2e1-4680-866f-df3523c8c1eb"
   },
   "outputs": [
    {
     "data": {
      "image/png": "[encoded data removed]",
      "text/plain": [
       "<Figure size 400x400 with 1 Axes>"
      ]
     },
     "metadata": {},
     "output_type": "display_data"
    }
   ],
   "source": [
    "#@title Code for generating the distance to constraint figure\n",
    "import matplotlib\n",
    "L1 = 1\n",
    "L2 = 1\n",
    "xD = 1\n",
    "def distance(q1,q2):\n",
    "    c1 = np.cos(q1)\n",
    "    c12 = np.cos(q1+q2)\n",
    "    return L1*c1 + L2*c12 - xD\n",
    "plt.figure(figsize=(4,4))\n",
    "X,Y = np.meshgrid(np.linspace(-math.pi,math.pi,40),np.linspace(-math.pi,math.pi,40))\n",
    "plt.title('Distance to constraint')\n",
    "CS = plt.contour(X,Y,distance(X,Y),linewidths=[1,1,1,1,1,2,1,1,1],colors=('r','r','r','r','r','k','b','b','b'))\n",
    "plt.clabel(CS, inline=1, fontsize=10)\n",
    "plt.xlabel('q1')\n",
    "plt.ylabel('q2')\n",
    "plt.show()"
   ]
  },
  {
   "cell_type": "markdown",
   "metadata": {
    "id": "FKroamH10P1P"
   },
   "source": [
    "To characterize this set, we could choose $q_1$ as the independent DOF\n",
    "and then solve for $q_2$ analytically. Doing so, we find:\n",
    "$$\n",
    "  q_2 = \\pm \\cos^{-1}((x_D - c_1 L_1) / L_2) - q_1.\n",
    "$$\n",
    "The top of the\n",
    "manifold is given by the positive cosine term, while the bottom is the\n",
    "negative cosine term. Since the domain of $\\cos^{-1}$ is $[-1,1]$,\n",
    "solutions only exist for the range of $q_1$ such that\n",
    "$|x_D - c_1 L_1| \\leq  L_2$, or in other words,\n",
    "$(x_D - L_2)/L_1 \\leq c_1 \\leq (x_D + L_2) /L_1$.\n"
   ]
  },
  {
   "cell_type": "code",
   "execution_count": 3,
   "metadata": {
    "cellView": "form",
    "code_folding": [
     0
    ],
    "id": "3uMC33S50P1R",
    "outputId": "5f167611-d38d-4387-f6af-4c0c2016ac5b"
   },
   "outputs": [
    {
     "data": {
      "image/png": "[encoded data removed]",
      "text/plain": [
       "<Figure size 400x400 with 1 Axes>"
      ]
     },
     "metadata": {},
     "output_type": "display_data"
    }
   ],
   "source": [
    "#@title Code for generating the solution figure as a function of q1\n",
    "c1min = (xD - L2)/L1\n",
    "c1max = (xD + L2)/L1\n",
    "def q2_up(q1):\n",
    "    c1 = np.cos(q1)\n",
    "    return np.arccos((xD-c1*L1)/L2)-q1\n",
    "def q2_down(q1):\n",
    "    c1 = np.cos(q1)\n",
    "    return -np.arccos((xD-c1*L1)/L2)-q1\n",
    "plt.figure(figsize=(4,4))\n",
    "x = np.linspace(-np.arccos(c1min),np.arccos(c1min),50)\n",
    "plt.title('q2 parameterized by q1')\n",
    "plt.plot(x,q2_up(x),color='r')\n",
    "plt.plot(x,q2_down(x),color='g')\n",
    "plt.xlabel('q1')\n",
    "plt.ylabel('q2')\n",
    "plt.show()"
   ]
  },
  {
   "cell_type": "markdown",
   "metadata": {
    "id": "Au8XepYM0P1S"
   },
   "source": [
    "We note that the independent DOF could have also been chosen to be\n",
    "$q_2$. In this case, we must find a solution $q_1$ to\n",
    "$$\n",
    "  s_1 (- s_2 L_2) + c_1 (L_1 + c_2 L_2) - x_D = 0\n",
    "$$\n",
    "assuming the parenthesized terms are fixed. This type of equation\n",
    "$$a \\sin \\theta + b \\cos \\theta + c = 0$$\n",
    "has the general solution:\n",
    "$$\\theta = \\pm \\cos^{-1} \\frac{c}{\\sqrt{a^2+b^2}} + atan2(a,b).$$\n",
    "Hence, replacing this in the above equation, we get the solution for $q_1$:\n",
    "$$q_1 = \\pm \\cos^{-1}\\frac{-x_D}{\\sqrt{L_1^2 + L_2^2 + 2 c_2 L_1 L_2}} + atan2(- s_2 L_2, L_1 + c_2 L_2).$$\n",
    "The inverse cosine only has a solution when\n",
    "$x_D^2 \\leq L_1^2 + L_2^2 + 2 c_2 L_1 L_2$, or in other words,\n",
    "$c_2 \\geq (x_D^2 - L_1^2 - L_2^2)/(2 L_1 L_2)$.\n",
    "\n",
    "In more complex cases, particularly with $n-m \\geq 2$, the domain of\n",
    "valid independent DOFs becomes more geometrically complex and difficult\n",
    "to characterize.\n",
    "\n",
    "### Parallel robots\n",
    "\n",
    "To define the configuration space of parallel mechanisms, it is useful\n",
    "to first define an open, possibly branched chain by first imagining\n",
    "certain loop closure constraints as being broken, and then treating the\n",
    "broken constraints as IK tasks. Then, $n-m$ of the open DOFs may be\n",
    "represented as independent DOFs while the remaining $m$ are treated as\n",
    "dependent DOFs.\n",
    "\n",
    "Some of the joints of the mechanism will be independently *actuated*. It\n",
    "is convenient to choose a convention of independent vs dependent DOFs\n",
    "matching the actuated joints, which are also known as *active* joints,\n",
    "vs non-actuated joints, which are also known as *passive* joints. It is\n",
    "also prudent to design joint stops so that singularities of the passive\n",
    "chain are never reached, because otherwise the mechanism may \"lock up\"\n",
    "or exhibit non-deterministic behavior as singularities are reached."
   ]
  },
  {
   "cell_type": "markdown",
   "metadata": {
    "id": "VY5DDREd0P1T"
   },
   "source": [
    "The Jacobian matrix\n",
    "-------------------\n",
    "\n",
    "The Jacobian matrix is a fundamental concept in robotics that relates\n",
    "joint velocities to task space velocities. It also has uses in\n",
    "estimating the effects of joint positioning errors in terms of workspace\n",
    "accuracy, as well as in numerical IK methods."
   ]
  },
  {
   "cell_type": "markdown",
   "metadata": {
    "id": "4QpgoX6w15l0"
   },
   "source": [
    "### Partial derivative review\n",
    "\n",
    "The Jacobian uses the concept of partial derivatives, which is a\n",
    "generalization of the standard derivative to functions with multiple\n",
    "arguments. This section gives a short introduction to partial\n",
    "derivatives. More information can be found in [Appendix A.2](Calculus.ipynb).\n",
    "\n",
    "Given a two-argument function $f(x,y)$, the partial derivative with\n",
    "respect to $x$, evaluated at $(x,y)$ is denoted\n",
    "$\\frac{\\partial f}{\\partial x}(x,y)$. It is defined like the normal\n",
    "derivative, but keeping $y$ constant:\n",
    "$$\\frac{\\partial f}{\\partial x}(x,y) = \\lim_{\\Delta x \\rightarrow 0} \\frac{f(x+\\Delta x,y) - f(x,y)}{\\Delta x}.$$\n",
    "\n",
    "This can also be thought of as defining an auxiliary function, keeping\n",
    "$y$ constant, and taking the derivative of that:\n",
    "$$\n",
    "  \\frac{\\partial f}{\\partial x}(x,y) = \\frac{d}{dx} g_y(x)\n",
    "$$\n",
    "where $g_y(x)$ is defined as:\n",
    "$$\n",
    "  g_y(x) \\equiv f(x,y)\n",
    "$$\n",
    "\n",
    "Similarly we can take the partial derivative with respect to $y$:\n",
    "$$\n",
    "  \\frac{\\partial f}{\\partial y}(x,y) = \\lim_{\\Delta y \\rightarrow 0} \\frac{f(x,y+\\Delta y) - f(x,y)}{\\Delta y} = \\frac{d}{dy}h_x(y)\n",
    "$$\n",
    "where $h_x(y) \\equiv f(x,y)$.\n",
    "\n",
    "In general, the partial derivative of a multi-argument function with\n",
    "respect to some argument is calculated by *treating the remaining\n",
    "arguments as constant* and simply calculating the regular derivative.\n",
    "The differential $\\frac{\\partial f}{\\partial x}$ is the function\n",
    "obtained by partial differentiation of $f$ treating all other arguments\n",
    "as constants.\n",
    "\n",
    "Most of the standard derivative rules apply to partial derivatives:\n",
    "\n",
    "-   Additive:\n",
    "    $\\frac{\\partial (f+g)}{\\partial x}(x,y) = \\frac{\\partial f}{\\partial x}(x,y) + \\frac{\\partial g}{\\partial x}(x,y)$\n",
    "\n",
    "-   Scalar multiplication:\n",
    "    $\\frac{\\partial (cf)}{\\partial x}(x,y) = c \\frac{\\partial f}{\\partial x}(x,y)$\n",
    "\n",
    "-   Multiplicative:\n",
    "    $\\frac{\\partial (f(x,y)g(x,y))}{\\partial x} = \\frac{\\partial f(x,y)}{\\partial x} g(x,y) + \\frac{\\partial g(x,y)}{\\partial x}f(x,y)$\n",
    "\n",
    "There are also generalizations of the chain rule:\n",
    "\n",
    "-   If $h(x,y) = f(g(x,y))$, then\n",
    "    $\\frac{\\partial h(x,y)}{\\partial x} = f^\\prime(g(x,y)) \\frac{\\partial g(x,y)}{\\partial x}$\n",
    "\n",
    "-   If $h(x,y) = f(g(x),y)$, then\n",
    "    $\\frac{\\partial h(x,y)}{\\partial x} = \\frac{\\partial f(g(x),y)}{d g} g^\\prime(x)$\n",
    "\n",
    "Also if a function is not dependent on some variable, then its partial\n",
    "derivative with respect to that variable is nil:\n",
    "$$\\frac{\\partial f(y)}{\\partial x} = 0$$"
   ]
  },
  {
   "cell_type": "markdown",
   "metadata": {
    "id": "N7TBAxU817mQ"
   },
   "source": [
    "### Jacobian definition\n",
    "\n",
    "The Jacobian of an arbitrary vector function $\\mathbf{x} = f(\\mathbf{q})$, with\n",
    "$f: \\mathbb{R}^n \\rightarrow \\mathbb{R}^m$ is given as the following\n",
    "*matrix of partial derivatives*:"
   ]
  },
  {
   "cell_type": "markdown",
   "metadata": {
    "id": "4jlH0R5b0P1T"
   },
   "source": [
    "$$J(\\mathbf{q}) \\equiv \\frac{\\partial f(\\mathbf{q})}{\\partial \\mathbf{x}} \\equiv \\begin{bmatrix}\n",
    "\\frac{\\partial f_1(\\mathbf{q})}{\\partial q_1} & \\cdots & \\frac{\\partial f_1(\\mathbf{q})}{\\partial q_n} \\\\\n",
    "\\vdots & \\ddots & \\vdots \\\\\n",
    "\\frac{\\partial f_m(\\mathbf{q})}{\\partial q_1} & \\cdots & \\frac{\\partial f_m(\\mathbf{q})}{\\partial q_n} \n",
    "\\end{bmatrix}$$"
   ]
  },
  {
   "cell_type": "markdown",
   "metadata": {
    "id": "adH-7iJK0P1U"
   },
   "source": [
    "where $f$'s component functions are given by the individual $f_i$'s:\n",
    "\n",
    "$$f(\\mathbf{q}) \\equiv \\begin{bmatrix} f_1(\\mathbf{q}) \\\\ \\vdots \\\\ f_m(\\mathbf{q}) \\end{bmatrix}.$$"
   ]
  },
  {
   "cell_type": "markdown",
   "metadata": {
    "id": "StLJ7z2w0P1U"
   },
   "source": [
    "Observe that each of the rows of the Jacobian correspond to each of the\n",
    "component functions, and each column corresponds to derivatives of a\n",
    "single joint coordinate. It is also important to note that the Jacobian\n",
    "is dependent on the configuration.\n"
   ]
  },
  {
   "cell_type": "markdown",
   "metadata": {
    "id": "RDTb4xne2ABP"
   },
   "source": [
    "#### Single joint example\n",
    "\n",
    "As an example, let us consider a single joint planar robot with its\n",
    "joint at the origin, and an end effector at $L_1$ distance away from the\n",
    "origin. The world coordinates of the end effector are:\n",
    "$$\\mathbf{x}(\\mathbf{q}) = \\begin{bmatrix}{L_1 \\cos q_1} \\\\ {L_1 \\sin q_1} \\end{bmatrix}.$$ \n",
    "\n",
    "The Jacobian\n",
    "of this point is a $2\\times 1$ matrix obtained by taking the derivative\n",
    "with respect to each of the joint coordinates, which is just $q_1$ in\n",
    "this case.\n",
    "$$J(\\mathbf{q}) \\equiv \\frac{\\partial \\mathbf{x}}{\\partial \\mathbf{q}}(\\mathbf{q}) = \\begin{bmatrix}{\\partial (L_1 \\cos q_1) / \\partial q_1} \\\\ {\\partial (L_1 \\sin q_1) / \\partial q_1} \\end{bmatrix} = \\begin{bmatrix}{-L_1 \\sin q_1} \\\\ {L_1 \\cos q_1} \\end{bmatrix}.$$\n",
    "\n",
    "\n",
    "Note that this is perpendicular to the direction from the joint to the\n",
    "end effector, with the same magnitude.\n",
    "\n",
    "The significance of the Jacobian in this case is that *it gives the\n",
    "instantaneous velocity of the point* $\\mathbf{x}$, in world coordinates, as\n",
    "$q_1$ rotates at 1 rad/s. If $q_1$ rotates at another velocity\n",
    "$\\dot{q}_1$ (the dot denotes time derivative), then the end effector\n",
    "velocity is given by: $$\\dot{\\mathbf{x}} = J(\\mathbf{q}) \\dot{q}_1.$$ This holds\n",
    "as a consequence of the chain rule. Note that this equation only holds\n",
    "in the 1 joint case; let us now discuss a more general case."
   ]
  },
  {
   "cell_type": "markdown",
   "metadata": {
    "id": "PZKocZ-L2B-0"
   },
   "source": [
    "#### Two joint example\n",
    "\n",
    "Now consider the two joint planar arm [described above](#2R-manipulator). The end effector has world position\n",
    "$$\\mathbf{x}(\\mathbf{q}) = \\begin{bmatrix}{c_1(L_1 + c_2 L_2) - s_1 s_2 L_2} \\\\ {s_1(L_1 + c_2 L_2) + c_1 s_2 L_2} \\end{bmatrix}.$$\n",
    "The first column of the Jacobian is the partial derivative with respect\n",
    "to $q_1$, keeping $q_2$ constant:\n",
    "$$\\frac{\\partial \\mathbf{x}}{\\partial q_1}(\\mathbf{q}) = \\begin{bmatrix}{-s_1(L_1 + c_2 L_2) - c_1 s_2 L_2} \\\\ {c_1(L_1 + c_2 L_2) - s_1 s_2 L_2} \\end{bmatrix}.$$\n",
    "The second column is the partial derivative with respect to $q_2$,\n",
    "keeping $q_1$ constant:\n",
    "$$\\frac{\\partial \\mathbf{x}}{\\partial q_2}(\\mathbf{q}) = \\begin{bmatrix}{-c_1 s_2 L_2 - s_1 c_2 L_2} \\\\ {- s_1 s_2 L_2 + c_1 c_2 L_2} \\end{bmatrix}.$$\n",
    "Overall, the Jacobian matrix is a $2\\times 2$ matrix as follows:\n",
    "$$J(\\mathbf{q}) = \\begin{bmatrix}{-s_1(L_1 + c_2 L_2) - c_1 s_2 L_2} & {- c_1 s_2 L_2 - s_1 c_2 L_2} \\\\ {c_1(L_1 + c_2 L_2) - s_1 s_2 L_2} & {-s_1 s_2 L_2 + c_1 c_2 L_2} \\end{bmatrix}.$$\n",
    "Observe that the first column is simply a vector perpendicular to\n",
    "$\\mathbf{x}$ with the same magnitude. The second column is a bit more\n",
    "challenging to interpret, but with a bit of scrutiny it can be seen as a\n",
    "vector perpendicular and with the same magnitude as the displacement\n",
    "vector from the second joint position to $\\mathbf{x}$.\n",
    "\n",
    "This means that if $q_1$ were to rotate at velocity $\\dot{q}_1$ while\n",
    "$q_2$ is held constant, then the end effector would have instantaneous\n",
    "velocity: $$\\dot{q}_1 \\frac{\\partial \\mathbf{x}}{\\partial q_1}(\\mathbf{q}).$$\n",
    "Likewise, if $q_2$ were to rotate at velocity $\\dot{q}_2$, and $q_1$\n",
    "were to be held constant, then the velocity would be:\n",
    "$$\n",
    "  \\dot{q}_2 \\frac{\\partial \\mathbf{x}}{\\partial q_2}(\\mathbf{q}).\n",
    "$$\n",
    "If both were\n",
    "to rotate simultaneously, then the velocity would be\n",
    "$$\n",
    "  \\dot{\\mathbf{x}}(\\mathbf{q}) = \\dot{q}_1 \\frac{\\partial \\mathbf{x}}{\\partial q_1}(\\mathbf{q}) + \\dot{q}_2 \\frac{\\partial \\mathbf{x}}{\\partial q_2}(\\mathbf{q}) = J(\\mathbf{q})\\dot{\\mathbf{q}}.\n",
    "$$\n",
    "[Fig. 6](#fig:Jacobian2R) illustrates this concept. "
   ]
  },
  {
   "cell_type": "markdown",
   "metadata": {
    "id": "Hm2nNmqQ0P1X"
   },
   "source": [
    "\n",
    "************\n",
    "\n",
    "![fig:Jacobian2R](https://github.com/krishauser/RoboticSystemsBook/blob/master/figures/modeling/jacobian_2R.png?raw=1)\n",
    "\n",
    "<div class=\"figcaption\"><a name=\"fig:Jacobian2R\">Figure 5</a>.\n",
    "The Jacobian relates joint space velocities to Cartesian velocities.\n",
    "The first column of the Jacobian gives the velocity at which the end\n",
    "effector would move if the first joint moves at unit speed, and the\n",
    "second column gives its velocity if the second joint moves at unit\n",
    "velocity. The linear combination of Jacobian columns, weighted by joint\n",
    "speed, gives the overall Cartesian velocity.</div>\n",
    "\n",
    "************\n",
    "\n",
    "\n",
    "### Formula for arbitrary branched robots\n",
    "\n",
    "In general, using the forward kinematics formula given in Chapter 4:\n",
    "$$T_i(\\mathbf{q}) = T_{p[i]}(\\mathbf{q}) T_{i\\rightarrow p[i]}^{ref} L_{z_i,\\mathbf{a}_i}(q_i)$$\n",
    "we can derive the Jacobian of an end effector point on any link $n$. Let\n",
    "$A(n)$ denote the set of *ancestors* of link $n$, that is, $n$, its\n",
    "parent, its parent's parent, and so on down to the root. Let the task\n",
    "space $\\mathbf{x} = f(\\mathbf{q})$ be given by the position of an end effector on\n",
    "the $n$'th link, and $\\mathbf{x}_n$ are its local coordinates.\n",
    "\n",
    "If $j \\notin A(n)$, then joint $j$ does not affect the end effector. In\n",
    "this case, the $j$'th column of the Jacobian is zero.\n",
    "\n",
    "Otherwise, the $j$'th column of the Jacobian is given by:\n",
    "$$\\frac{\\partial f}{\\partial q_j}(\\mathbf{q}) = T_{p[j]}(\\mathbf{q}) T_{j\\rightarrow p[j]}^{ref} \\frac{d L_{z_j,\\mathbf{a}_j}}{d q_j}(q_j) T_{n\\rightarrow j}(\\mathbf{q}) \\mathbf{x}_n$$\n",
    "where $T_{n\\rightarrow j}(\\mathbf{q}) = T_j^{-1}(\\mathbf{q}) T_n(\\mathbf{q})$ is the\n",
    "transform from local coordinates on link $n$ to local coordinates on\n",
    "link $j$, at configuration $\\mathbf{q}$. Note that\n",
    "$T_{n\\rightarrow j}(\\mathbf{q})$ only depends on the joint angles of $j$'s\n",
    "descendants, not including $j$.\n",
    "\n",
    "#### Planar robots\n",
    "\n",
    "For 2D revolute joints, we have no joint type nor axis, so the local\n",
    "transform is given as: $$L_{z,\\mathbf{a}}(q) \\equiv R(q) = \n",
    "\\left[\\begin{array}{ccc}\n",
    "\\cos q & -\\sin q & 0 \\\\\n",
    "\\sin q & \\cos q & 0 \\\\\n",
    "0 & 0 & 1\n",
    "\\end{array}\\right]$$ in homogeneous coordinates, and hence the matrix\n",
    "derivative is given by $$\\frac{d}{dq} R(q) = \n",
    "\\left[\\begin{array}{ccc}\n",
    "-\\sin q & -\\cos q & 0 \\\\\n",
    "\\cos q & -\\sin q & 0 \\\\\n",
    "0 & 0 & 0\n",
    "\\end{array}\\right].$$ (Note that the bottom left entry dropped from 1 to\n",
    "0, indicating that the derivative of a position quantity is a\n",
    "directional quantity).\n",
    "\n",
    "A more compact expression of this derivative is as follows:\n",
    "$$\\frac{d}{dq} R(q) = R(q)\n",
    "\\left[\\begin{array}{ccc}\n",
    "0 & -1 & 0 \\\\\n",
    "1 & 0 & 0 \\\\\n",
    "0 & 0 & 0 \n",
    "\\end{array}\\right]\n",
    "$$\n",
    "and hence we obtain the compact expression for the Jacobian\n",
    "$$\\frac{\\partial f}{\\partial q_j}(\\mathbf{q}) = T_j(\\mathbf{q})\n",
    "\\left[\\begin{array}{ccc}\n",
    "0 & -1 & 0 \\\\\n",
    "1 & 0 & 0 \\\\\n",
    "0 & 0 & 0 \n",
    "\\end{array}\\right]\n",
    "T_{n\\rightarrow j}(\\mathbf{q}) \\mathbf{x}_n.$$\n",
    "This shows that the Jacobian column corresponding to a revolute joint is perpendicular to the vector from\n",
    "the joint to the end effector (rotated $90^\\circ$ CCW).\n",
    "[Fig. 6](#fig:Jacobian3R) illustrates this principle.\n",
    "\n",
    "\n",
    "*************\n",
    "\n",
    "![fig:Jacobian3R](https://github.com/krishauser/RoboticSystemsBook/blob/master/figures/modeling/jacobian_3R.png?raw=1)\n",
    "\n",
    "<div class=\"figcaption\"><a name=\"fig:Jacobian3R\">Figure 6</a>.\n",
    "The Jacobian of a planar 3R robot. Its columns are determined by\n",
    "taking the perpendicular vector to the displacement vector from the\n",
    "joint center to the end effector. The Jacobian is different for\n",
    "different configurations (a) and (b).\n",
    "</div>\n",
    "\n",
    "*************\n",
    "\n",
    "For a prismatic joint, we have a local transform: $$L_{z,\\mathbf{a}}(q) = \n",
    "\\left[\\begin{array}{ccc}\n",
    "1 & 0 & a_x q \\\\\n",
    "0 & 1 & a_y q \\\\\n",
    "0 & 0 & 1\n",
    "\\end{array}\\right]$$ and hence the derivative is\n",
    "$$\\frac{d}{dq} L_{z,\\mathbf{a}}(q) = \n",
    "\\left[\\begin{array}{ccc}\n",
    "0 & 0 & a_x \\\\\n",
    "0 & 0 & a_y \\\\\n",
    "0 & 0 & 0\n",
    "\\end{array}\\right].$$\n",
    "\n",
    "Since this matrix wipes out the $x$ and $y$ coordinates of whatever\n",
    "homogeneous point it multiplies and replaces it with $(a_x,a_y,0)$, we\n",
    "can express the Jacobian column with the simplified expression\n",
    "$$\\frac{\\partial f}{\\partial q_j}(\\mathbf{q}) = T_j(\\mathbf{q}) \\begin{bmatrix}a_{j,x} \\\\ a_{j,y} \\\\ 0\\end{bmatrix}.$$ "
   ]
  },
  {
   "cell_type": "markdown",
   "metadata": {
    "id": "LNTevkp_0P1Z"
   },
   "source": [
    "Note that since the homogeneous coordinate is 0, the translation of the\n",
    "transform $T_j$ does not affect the result, and hence the Jacobian\n",
    "column is simply the world direction of the joint axis $\\mathbf{a}_j$."
   ]
  },
  {
   "cell_type": "markdown",
   "metadata": {
    "id": "38INzv4v2IT2"
   },
   "source": [
    "### 3D robots\n",
    "\n",
    "For 3D revolute joints, the local transform is given by an axis-angle\n",
    "rotation:\n",
    "$$\n",
    "  L_{z,\\mathbf{a}}(q) \\equiv R_{aa}(\\mathbf{a},q)\n",
    "$$\n",
    "The velocity of a point $X$ being rotated along with the rotation frame at unit velocity\n",
    "$\\dot{q}$ is given by its cross product with the rotation axis:\n",
    "$$\n",
    "  \\frac{d}{dt} \\mathbf{x} = \\mathbf{a} \\times \\mathbf{x}.\n",
    "$$\n",
    "Here $\\mathbf{x}$ is the post-rotation coordinates of the point. Since multiplication with a\n",
    "rotation matrix $R_{aa}(\\mathbf{a},q)$ converts pre-rotation coordinates to\n",
    "post-rotation coordinates, the angular velocity of a point given with\n",
    "pre-rotation coordinates $\\mathbf{x}_L$ is given by\n",
    "$$\n",
    "  \\frac{d}{dt} \\mathbf{x} = \\mathbf{a} \\times R_{aa}(\\mathbf{a},q) \\mathbf{x}_L.\n",
    "$$\n",
    "Since the cross product axis and the rotation axis are the same, Rodrigues'\n",
    "formula can be used to switch the order of the cross product:\n",
    "$$\n",
    "  \\mathbf{a} \\times (R_{aa}(\\mathbf{a},q) \\mathbf{x}_L) =  R_{aa}(\\mathbf{a},q) (\\mathbf{a} \\times \\mathbf{x}_L).\n",
    "$$\n",
    "Finally, using the skew-symmetric product notation $\\hat{\\cdot}$ used in\n",
    "Chapter 2 we obtain\n",
    "$$\n",
    "  \\frac{d}{dt} R_{aa}(\\mathbf{a},q) \\mathbf{x}_L = R_{aa}(\\mathbf{a},q) \\hat{\\mathbf{a}} \\mathbf{x}_L\n",
    "$$\n",
    "and since this holds for all $\\mathbf{x}_L$, we see that\n",
    "$$\n",
    "  \\frac{d}{dt} R_{aa}(\\mathbf{a},q) = R_{aa}(\\mathbf{a},q) \\hat{\\mathbf{a}}.\n",
    "$$\n",
    "Replacing this in the Jacobian expression and converting to homogeneous\n",
    "coordinates, we obtain the simplified expression:\n",
    "\n",
    "\\begin{equation}\n",
    "\\frac{\\partial f}{\\partial q_j}(\\mathbf{q}) = T_j(\\mathbf{q})\n",
    "\\left[\\begin{array}{c|c}\n",
    "\\hat{\\mathbf{a}} & 0  \\\\\n",
    "\\hline\n",
    "0 & 0  \n",
    "\\end{array}\\right]\n",
    "T_{n\\rightarrow j}(\\mathbf{q}) \\mathbf{x}_n.\n",
    "\\label{eq:JacobianRevolute3D}\n",
    "\\end{equation}\n",
    "\n",
    "Another way to interpret this is that\n",
    "the $j$'th column of the Jacobian is the cross-product between the axis\n",
    "of joint $j$ and the vector pointing from joint $j$ to the end effector\n",
    "(both given in world coordinates). To see this, note that the axis in\n",
    "world coordinates is $R_j\\mathbf{a} = T_j \\begin{bmatrix} \\mathbf{a} \\\\ 0 \\end{bmatrix}$ and the\n",
    "displacement vector is $T_n \\mathbf{x}_n - \\mathbf{t}_j$. Here, $R_j$ is the\n",
    "orientation of link $j$, $\\mathbf{t}_j$ is its origin, we have implicitly\n",
    "assumed dependence on $\\mathbf{q}$, and we slightly abuse notation to convert\n",
    "freely between homogeneous and standard coordinates. The displacement\n",
    "vector could also be expressed as\n",
    "$R_j T_{n\\rightarrow j} \\mathbf{x}_n + \\mathbf{t}_j - \\mathbf{t}_j = R_j T_{n\\rightarrow j} \\mathbf{x}_n$.\n",
    "\n",
    "Hence, by the distributive property of the cross-product,\n",
    "$$R_j\\mathbf{a} \\times R_j T_{n\\rightarrow j} \\mathbf{x}_n = R_j (\\mathbf{a} \\times T_{n\\rightarrow j} \\mathbf{x}_n) = R_j \\hat{\\mathbf{a}} T_{n \\rightarrow j} \\mathbf{x}_n$$\n",
    "which is equivalent to $\\eqref{eq:JacobianRevolute3D}$.\n",
    "\n",
    "For prismatic joints, a derivation similar to the planar case gives the\n",
    "simplified expression:\n",
    "$$\\frac{\\partial f}{\\partial q_j}(\\mathbf{q}) = T_j(\\mathbf{q}) \\begin{bmatrix}\\mathbf{a}_j \\\\ \\hline 0 \\end{bmatrix}.$$\n",
    "Similar derivations exist for helical and other exotic joint types."
   ]
  },
  {
   "cell_type": "markdown",
   "metadata": {
    "id": "o9DVlHbR3cEB"
   },
   "source": [
    "#### Orientation jacobians\n",
    "\n",
    "For task spaces that include orientation components, the Jacobian of the\n",
    "orientation components can also be computed in a straightforward manner.\n",
    "The orientation Jacobian $J_\\theta$ converts joint velocities into the\n",
    "angular velocity of the link containing the end effector. In 2D, angular\n",
    "velocity is simply a scalar and hence $J_\\theta$ is a $1\\times n$\n",
    "matrix. In 3D, angular velocity is a 3D vector, and hence $J_\\theta$ is\n",
    "a $3 \\times n$ matrix.\n",
    "\n",
    "First, any prismatic joints do not affect orientation, and hence the\n",
    "columns of the orientation Jacobian corresponding to such joints are\n",
    "zero.\n",
    "\n",
    "For revolute joints in 2D, each joint affects the orientation of the end\n",
    "effector equally. Hence, each column of $J_\\theta$ corresponding to a\n",
    "revolute joint is 1.\n",
    "\n",
    "In 3D, an angular velocity vector is a vector $\\boldsymbol{\\omega}$ such that for\n",
    "any point $\\mathbf{x}$ expressed in world coordinates but attached to link\n",
    "$n$, its instantaneous velocity will be:\n",
    "$$\\boldsymbol{\\omega}\\times (\\mathbf{x} - \\mathbf{t}_n) + \\dot{\\mathbf{t}}_n$$\n",
    "where $\\mathbf{t}_n$ is the origin of link $n$. Hence, the angular velocity at the end\n",
    "effector is simply the angular velocity of link $n$. The angular\n",
    "velocity of each revolute joint are summed to obtain the angular\n",
    "velocity of the end effector:\n",
    "$$\\boldsymbol{\\omega} = \\sum_{j\\text{ is revolute}} J_{\\theta,j}(\\mathbf{q})\\dot{q}_j$$\n",
    "Hence the $j$'th column of the Jacobian is:\n",
    "$$J_{\\theta,j}(\\mathbf{q}) = T_j(\\mathbf{q}) \\begin{bmatrix}\\mathbf{a}_j \\\\ \\hline 0 \\end{bmatrix}$$\n",
    "where the multiplication orients the local axis to the world coordinate frame.\n",
    "\n",
    "It is important to note that $\\boldsymbol{\\omega}$ is usually not the derivative\n",
    "of a given rotation representation, like Euler angles. Instead, it is\n",
    "that an additional transformation is typically necessary to obtain the\n",
    "derivative of the orientation representation used in the task coordinate\n",
    "$\\mathbf{x}$."
   ]
  },
  {
   "cell_type": "markdown",
   "metadata": {
    "id": "eb_gURhJ2hVv"
   },
   "source": [
    "### Significance and interpretation"
   ]
  },
  {
   "cell_type": "markdown",
   "metadata": {
    "id": "BTxbmexe2jWa"
   },
   "source": [
    "#### Relating joint and task velocities\n",
    "\n",
    "The general formula relating joint space velocities to task space\n",
    "velocities is: $$\\dot{\\mathbf{x}} = J(\\mathbf{q}) \\dot{\\mathbf{q}}$$ where $J$ is the\n",
    "Jacobian of the task space map. In other words, the $i$'th column of $J$\n",
    "gives the velocity at which the end effector would move if the $i$'th\n",
    "joint were to move at unit velocity."
   ]
  },
  {
   "cell_type": "markdown",
   "metadata": {
    "id": "GYydJ2NN2lCy"
   },
   "source": [
    "#### As a Taylor expansion\n",
    "\n",
    "Another interpretation of the Jacobian is as an $n$-dimensional analogue\n",
    "of Taylor expansion. Recall that the 1st order Taylor expansion of a\n",
    "normal 1-D, differentiable function is the linear approximation:\n",
    "$$f(x + \\Delta x) = f(x) + f^\\prime(x)\\cdot \\Delta x + O(\\Delta x^2)$$\n",
    "where $O(h^2)$ denotes a term smaller than a constant times $h^2$ as $h$\n",
    "decreases asymptotically to 0. This means that a function is\n",
    "increasingly better approximated with the line\n",
    "$y = f(x) + \\Delta x f^\\prime(x)$ as $\\Delta x$ shrinks toward 0.\n",
    "\n",
    "The Jacobian appears in the $n$-dimensional Taylor expansion of a\n",
    "multidimensional differentiable function:\n",
    "$$f(\\mathbf{x} + \\Delta \\mathbf{x}) = f(\\mathbf{x}) + J(\\mathbf{x}) \\Delta \\mathbf{x} + O(\\|\\Delta \\mathbf{x}\\|^2).$$\n",
    "This states that an arbitrary function is well-approximated as a\n",
    "hyperplane $$\\mathbf{y} = f(\\mathbf{x}) + J(\\mathbf{x}) \\Delta \\mathbf{x}$$ as\n",
    "$\\Delta \\mathbf{x}$ shrinks toward 0.\n"
   ]
  },
  {
   "cell_type": "markdown",
   "metadata": {
    "id": "C1nq96lb2Mkp"
   },
   "source": [
    "#### Use in error propagation\n",
    "\n",
    "Another important use of the Jacobian is in error propagation. Suppose\n",
    "that at a robot has configuration $\\mathbf{q}$ but with a joint space error\n",
    "$\\boldsymbol{\\epsilon}$. Then the task-space error\n",
    "$$\n",
    "  f(\\mathbf{q}+\\boldsymbol{\\epsilon}) - f(\\mathbf{q})\n",
    "$$\n",
    "is approximated by the Taylor\n",
    "expansion\n",
    "$$\n",
    "  f(\\mathbf{q}+\\boldsymbol{\\epsilon}) - f(\\mathbf{q}) \\approx J(\\mathbf{q}) \\boldsymbol{\\epsilon}\n",
    "$$\n",
    "if $\\epsilon$ is small. In terms of absolute magnitude, the task space\n",
    "error is $\\| J(\\mathbf{q}) \\boldsymbol{\\epsilon}\\|$. We can also bound the error:\n",
    "$$\n",
    "  \\| J(\\mathbf{q}) \\boldsymbol{\\epsilon}\\| \\leq \\sum_{i=1}^n |\\epsilon_{i}| \\|J_i(\\mathbf{q})\\|\n",
    "$$\n",
    "where $J_i$ is the $i$'th column of the Jacobian. As a result if joint\n",
    "$i$ had an error, the norm of $J_i$ approximates the corresponding error\n",
    "in task space.\n",
    "\n",
    "In general, in $n$R planar robots, the $i$'th column of the Jacobian is\n",
    "simply the vector from the $i$'th joint to the end effector, rotated by\n",
    "$90^\\circ$ CCW. This has the significance that if the end effector is\n",
    "farther from revolute joint $i$ than joint $j$, then the magnitude of\n",
    "the $i$'th column is greater than the magnitude of the $j$'th column.\n",
    "Usually, this means that errors and movements of joints close to the\n",
    "robot's base have a larger effect than joints closer to the end\n",
    "effector.\n"
   ]
  },
  {
   "cell_type": "markdown",
   "metadata": {
    "id": "mcq_tNvB2OCT"
   },
   "source": [
    "### Manipulability and singularity identification\n",
    "\n",
    "TODO\n"
   ]
  },
  {
   "cell_type": "markdown",
   "metadata": {
    "id": "_-8bqVXH2Pjw"
   },
   "source": [
    "### Null-space motion computation\n",
    "\n",
    "TODO "
   ]
  },
  {
   "cell_type": "markdown",
   "metadata": {
    "id": "xV57-a8O0P1b"
   },
   "source": [
    "\n",
    "Numerical IK\n",
    "------------\n",
    "\n",
    "Numerical IK methods are highly general techniques that can accommodate\n",
    "arbitrary robot mechanisms and task spaces, without any need for\n",
    "mechanism-specific mathematics besides forward kinematics and Jacobian\n",
    "computations. As a result they are preferable for use in software\n",
    "packages that are compatible with multiple robot types. However, they\n",
    "have a few drawbacks: they involve much more computation than analytical\n",
    "approaches, only provide point solutions, and may fall prey to local\n",
    "minima. Robotics practitioners must be aware of these drawbacks when\n",
    "building systems based on numerical IK techniques.\n",
    "\n",
    "All numerical approaches share a common iterative structure. First, let\n",
    "$f(\\mathbf{q})$ denote the task space error (rather than task coordinate).\n",
    "These methods are given a seed configuration $\\mathbf{q}_0$, and iteratively\n",
    "improve it to obtain a sequence $\\mathbf{q}_1,\\mathbf{q}_2,\\ldots,\\mathbf{q}_k$ with\n",
    "decreasing error values $\\|f(\\mathbf{q}_i)\\|$. The iteration can terminate\n",
    "when the error decreases below some threshold, or when $i$ exceeds an\n",
    "iteration limit $k$. However, they differ in their approach for\n",
    "calculating these iterates."
   ]
  },
  {
   "cell_type": "markdown",
   "metadata": {
    "id": "oTJ6FtbS5G-Z"
   },
   "source": [
    "### Cyclic Coordinate Descent\n",
    "\n",
    "Cyclic Coordinate Descent (CCD) is an appealing numerical method that\n",
    "only uses geometric reasoning to derive subsequent iterates. The idea is\n",
    "to move each joint independently so that it minimizes error between the\n",
    "end effector and the target (coordinate descent), and iterate through\n",
    "all the joints repeatedly (making it cyclic).\n",
    "\n",
    "*********************\n",
    "\n",
    "<a name=\"alg:CCD\">**Algorithm CCD**</a>\n",
    "1. **for** $i=1,\\ldots,k$ **do**\n",
    "2. &nbsp;&nbsp;&nbsp;$\\mathbf{q}_i \\gets \\mathbf{q}_{i-1}$\n",
    "3. &nbsp;&nbsp;&nbsp;**for** all joints $j = 1,...,n$ $do$\n",
    "4. &nbsp;&nbsp;&nbsp; &nbsp;&nbsp;&nbsp;Compute $q_j^* = \\arg \\min_{q_j} \\|f(\\mathbf{q}_i)\\|$\n",
    "5. &nbsp;&nbsp;&nbsp; &nbsp;&nbsp;&nbsp;Set $\\mathbf{q}_{i,j} \\gets q_j^*$\n",
    "6. **return** $\\mathbf{q}_k$\n",
    "\n",
    "*********************\n",
    "\n",
    "CCD iterates by performing $k$ passes through the joints as listed in\n",
    "[Algorithm CCD](#alg:CCD). On each pass, it loops through the $n$ joints, and\n",
    "modifies each joint $j$ assuming the rest of the robot is fixed.\n",
    "Specifically, line 4 finds the value that minimizes the error keeping\n",
    "the rest of $\\mathbf{q}_i$ constant, and this is updated in $\\mathbf{q}_i$ in line 5.\n",
    "This procedure iterates until $N$ passes have been made, or\n",
    "convergence has been reached. Note that the error $\\|f(\\mathbf{q}_i)\\|$ will\n",
    "never increase. However, it may terminate without convergence in the\n",
    "case that a singularity is reached.\n",
    "\n",
    "To make CCD converge quickly, the single-joint minimization in Line 4\n",
    "should be fast. In many cases there are closed-form solutions to this\n",
    "problem. For 2D robots with positioning tasks, this consists of finding\n",
    "the angle $\\theta_j$ between the $j$'th joint and the end effector and\n",
    "the angle $\\theta_j^\\prime$ between the $j$'th joint and the target.\n",
    "Then $q_j$ is displaced from its current value by\n",
    "$\\theta_j^\\prime - \\theta_j$.\n",
    "\n",
    "The figure below shows the result of CCD for a 2R manipulator reaching the point (1,0.5).  The first plot shows the sequence of configurations starting from $q_0=(0,0)$, the second shows the end effector point for the sequence, and the third shows the error at each iteration.\n"
   ]
  },
  {
   "cell_type": "code",
   "execution_count": 4,
   "metadata": {
    "cellView": "form",
    "code_folding": [
     0
    ],
    "colab": {
     "base_uri": "https://localhost:8080/",
     "height": 297
    },
    "id": "Sn5u3SFk0P1c",
    "outputId": "07a84f7a-b349-48b8-aefb-5b6c1403a822"
   },
   "outputs": [
    {
     "data": {
      "image/png": "[encoded data removed]",
      "text/plain": [
       "<Figure size 1200x400 with 3 Axes>"
      ]
     },
     "metadata": {},
     "output_type": "display_data"
    }
   ],
   "source": [
    "#@title Code for generating the CCD figure\n",
    "xD = np.array([1.,0.5])\n",
    "q0 = np.array([0.,0.])\n",
    "L = [1,1]\n",
    "def fk_all(q):\n",
    "    theta = 0\n",
    "    res = []\n",
    "    joint = np.array([0.,0.])\n",
    "    for i in range(len(L)):\n",
    "        theta += q[i]\n",
    "        ci = np.cos(theta)\n",
    "        si = np.sin(theta)\n",
    "        joint = joint + np.array([ci*L[i],si*L[i]])\n",
    "        res.append(joint)\n",
    "    return res\n",
    "def error(q):\n",
    "    return np.linalg.norm(fk_all(q)[-1] - xD)\n",
    "def CCD_i(q,i):\n",
    "    xs = fk_all(q)\n",
    "    ee = xs[-1]\n",
    "    #joint positions\n",
    "    js = [np.array([0,0])] + xs[:-1]\n",
    "    jointi = js[i]\n",
    "    theta_target = np.arctan2(xD[1]-jointi[1],xD[0]-jointi[0])\n",
    "    theta_ee = np.arctan2(ee[1]-jointi[1],ee[0]-jointi[0])\n",
    "    dtheta = theta_target - theta_ee\n",
    "    qnext = np.copy(q)\n",
    "    qnext[i] += dtheta\n",
    "    return qnext\n",
    "iterates = [q0]\n",
    "for i in range(10):\n",
    "    iterates.append(CCD_i(iterates[-1],1))\n",
    "    iterates.append(CCD_i(iterates[-1],0))\n",
    "e = [error(q) for q in iterates]\n",
    "xy = [fk_all(q)[-1] for q in iterates]\n",
    "iterates = np.vstack(iterates)\n",
    "fig = plt.figure(figsize=(12,4))\n",
    "ax1 = fig.add_subplot(131)\n",
    "ax1.plot(iterates[:,0],iterates[:,1],color='k',zorder=1)\n",
    "ax1.scatter(iterates[:,0],iterates[:,1],c=range(len(iterates)),zorder=2)\n",
    "ax1.set_xlabel('q1')\n",
    "ax1.set_ylabel('q2')\n",
    "ax2 = fig.add_subplot(132)\n",
    "ax2.plot([v[0] for v in xy],[v[1] for v in xy],zorder=1)\n",
    "ax2.scatter([xD[0]],[xD[1]],color='r',zorder=2)\n",
    "ax2.set_xlabel('x')\n",
    "ax2.set_ylabel('y')\n",
    "ax3 = fig.add_subplot(133)\n",
    "ax3.semilogy(range(len(e)),e)\n",
    "ax3.set_xlabel(\"Iteration\")\n",
    "ax3.set_ylabel(\"Error\")\n",
    "fig.tight_layout()\n",
    "plt.show()"
   ]
  },
  {
   "cell_type": "markdown",
   "metadata": {
    "id": "HlHKVkhg0P1g"
   },
   "source": [
    "In 3D, the situation is similar, except the\n",
    "angles are calculated on the plane orthogonal to the joint axis. When\n",
    "combined position and orientation tasks are considered, the derivation\n",
    "of the optimal solution is more difficult because the solution must\n",
    "trade off between the two competing objectives. We refer the interested\n",
    "reader to external readings for more details.\n",
    "\n",
    "CCD in general is not as sensitive to the initial seed as other methods,\n",
    "and reduces error quickly in the first few iterations. However, it may\n",
    "be slow in converging to tight tolerances. The reason is that certain\n",
    "end effector motions can only be attained by a coordinated, simultaneous\n",
    "motion of two or more joints, and individual moves along either\n",
    "coordinate axis increases error (the error function contains a diagonal\n",
    "\"valley\").  An example of this is shown in the below figure, where a 4R serial manipulator with unit lengths\n",
    "is used to get toward the point (4,0).  The start configuration is $q=(\\pi/2,\\pi/2,\\pi/2,\\pi/2)$, and the solution\n",
    "is straightened out, $q=(0,0,0,0)$.  Even after 40 iterations, the method still has a relatively large error.\n",
    "\n",
    "Due to this behavior, CCD is often used as a precomputation step to\n",
    "get reasonably close to the target, and then some other numerical\n",
    "procedure is used for the final steps.\n"
   ]
  },
  {
   "cell_type": "code",
   "execution_count": 5,
   "metadata": {
    "cellView": "form",
    "code_folding": [
     0
    ],
    "id": "FK98q2HF0P1g",
    "outputId": "804de607-5cc3-49af-a5fa-dfa955578315"
   },
   "outputs": [
    {
     "data": {
      "image/png": "[encoded data removed]",
      "text/plain": [
       "<Figure size 800x400 with 2 Axes>"
      ]
     },
     "metadata": {},
     "output_type": "display_data"
    }
   ],
   "source": [
    "#@title Code for generating the 4R CCD figure\n",
    "q0 = np.array([math.pi/2,math.pi/2,math.pi/2,math.pi/2])\n",
    "xD = np.array([4,0])\n",
    "L = [1,1,1,1]\n",
    "iterates = [q0]\n",
    "for i in range(10):\n",
    "    for k in range(3,-1,-1):\n",
    "        iterates.append(CCD_i(iterates[-1],k))\n",
    "e = [error(q) for q in iterates]\n",
    "xy = [fk_all(q)[-1] for q in iterates]\n",
    "iterates = np.vstack(iterates)\n",
    "fig = plt.figure(figsize=(8,4))\n",
    "ax2 = fig.add_subplot(121)\n",
    "ax2.plot([v[0] for v in xy],[v[1] for v in xy],zorder=1)\n",
    "ax2.scatter([xD[0]],[xD[1]],color='r',zorder=2)\n",
    "ax2.set_xlabel('x')\n",
    "ax2.set_ylabel('y')\n",
    "ax3 = fig.add_subplot(122)\n",
    "ax3.semilogy(range(len(e)),e)\n",
    "ax3.set_xlabel(\"Iteration\")\n",
    "ax3.set_ylabel(\"Error\")\n",
    "ax3.set_ylim(1e-6,10)\n",
    "fig.tight_layout()\n",
    "plt.show()"
   ]
  },
  {
   "cell_type": "markdown",
   "metadata": {
    "id": "V2RzxVw-0P1i"
   },
   "source": [
    "### Root-finding methods\n",
    "\n",
    "The class of root-finding methods attempt to solve for a zero of the\n",
    "error function $f(\\mathbf{q})=0$ using iterative solutions of the 1st Taylor\n",
    "expansion. In particular, we will discuss the Newton-Raphson method, a\n",
    "multi-dimensional analogue of Newton's method in 1D."
   ]
  },
  {
   "cell_type": "markdown",
   "metadata": {
    "id": "qDiKpiiE4_BD"
   },
   "source": [
    "#### Derivation from Taylor expansion\n",
    "\n",
    "For a 1D function $f(x)$, Newton's method repeatedly approximates the\n",
    "curve at an iterate $x_i$ as a line through $(x_i,f(x_i))$ using Taylor\n",
    "expansion, and solves for the intersection of the line and the $x$ axis.\n",
    "The iteration in Newton's method sets\n",
    "$$\n",
    "  x_{i+1} = x_i - f(x_i) / f^\\prime(x_i).\n",
    "$$\n",
    "If the line is locally a\n",
    "good fit to $f$, then the next iteration gets very close to the root. In\n",
    "this case we say that the method *converges*. In fact, it can be proven\n",
    "to obtain a quadratic order of convergence for most \"well-behaved\"\n",
    "functions. An animation of Newton's method is shown below.\n",
    "\n",
    "<video src=\"https://github.com/sujaygarlanka/RoboticSystemsBook/raw/refs/heads/master/animations/media/modeling/NewtonsMethod1D.mp4\" width=\"500\" height=\"300\" controls></video>\n",
    "\n",
    "\n",
    "In the multidimensional case, we seek the next iterate\n",
    "$\\mathbf{q}_{i+1} = \\mathbf{q}_i + \\Delta \\mathbf{q}_i$ to solve the following Taylor\n",
    "expansion:\n",
    "\\begin{equation}\n",
    "  0 = f(\\mathbf{q}_i) + J(\\mathbf{q}_i) \\Delta \\mathbf{q}_i.\n",
    "  \\label{eq:NewtonRaphson}\n",
    "\\end{equation}\n",
    "In the nonredundant case\n",
    "where $n = m$, the Jacobian is square and this system of linear\n",
    "equations can be solved via matrix inversion as long as $J(\\mathbf{q}_i)$ is\n",
    "invertible. The matrix is invertible as long as the robot is not at a\n",
    "singularity.\n",
    "\n",
    "However, in the redundant $n > m$ case, the Jacobian is not even square.\n",
    "Here there is a linear subspace of values of $\\Delta \\mathbf{q}_i$ that\n",
    "satisfy this equation. Luckily there is generalization of the matrix\n",
    "inverse known as the *pseudoinverse* that allows for solving for a\n",
    "unique value of $\\Delta \\mathbf{q}_i$ that not only\n",
    "solves $\\eqref{eq:NewtonRaphson}$ but also minimizes the amount of deviation\n",
    "from the previous iterate. See\n",
    "[Appendix A.1](LinearAlgebra.ipynb#Matrix-pseudoinverse) for more information. The pseudoinverse\n",
    "solution $\\Delta \\mathbf{q}_i = -J(\\mathbf{q}_i)^+ f(\\mathbf{q}_i)$ is the solution\n",
    "that minimizes the joint space deviation $\\| \\Delta \\mathbf{q}_i \\|$.\n",
    "\n",
    "The below figures show how quickly Newton-Raphson finds a very accurate solution for the 4R manipulator that CCD had trouble with above.  Within 8 iterations the error is less than 1/1000 units, and in 15 iterations the error is approximately 10<sup>-7</sup> units."
   ]
  },
  {
   "cell_type": "code",
   "execution_count": 6,
   "metadata": {
    "cellView": "form",
    "code_folding": [
     0
    ],
    "id": "0UNaIiu70P1i",
    "outputId": "3e4ab06d-a04a-4a4f-b10e-fde3f2668917"
   },
   "outputs": [
    {
     "data": {
      "image/png": "[encoded data removed]",
      "text/plain": [
       "<Figure size 800x400 with 2 Axes>"
      ]
     },
     "metadata": {},
     "output_type": "display_data"
    }
   ],
   "source": [
    "#@title Code for the Newton-Raphson example \n",
    "\n",
    "q0 = np.array([math.pi/2,math.pi/2,math.pi/2,math.pi/2])\n",
    "\n",
    "def fk_jac(q):\n",
    "    xs = fk_all(q)\n",
    "    js = [np.array([0.,0.])] + xs[:-1]\n",
    "    cols = []\n",
    "    for i in range(len(L)):\n",
    "        d = xD - js[i]\n",
    "        cols.append([-d[1],d[0]])\n",
    "    return np.array(cols).T\n",
    "\n",
    "def basic_newton(q0,N):\n",
    "    #uses standard pseudoinverse to determine newton step\n",
    "    trace = [q0]\n",
    "    for i in range(N):\n",
    "        q = trace[-1]\n",
    "        J = np.linalg.pinv(fk_jac(q))\n",
    "        f = fk_all(q)[-1] - xD\n",
    "        dq = -np.dot(J,f)\n",
    "        qnext = q+dq\n",
    "        trace.append(qnext)\n",
    "    return trace\n",
    "\n",
    "trace = basic_newton(q0,20)\n",
    "xy = [fk_all(q)[-1] for q in trace]\n",
    "err = [error(q) for q in trace]\n",
    "fig = plt.figure(figsize=(8,4))\n",
    "ax1 = fig.add_subplot(121)\n",
    "ax1.plot([v[0] for v in xy],[v[1] for v in xy])\n",
    "ax1.scatter([xD[0]],[xD[1]],color='r',zorder=2)\n",
    "ax1.set_xlabel('x')\n",
    "ax1.set_ylabel('y')\n",
    "ax1.axis('equal')\n",
    "ax2 = fig.add_subplot(122)\n",
    "ax2.semilogy(range(len(err)),err)\n",
    "ax2.set_xlabel('Iterations')\n",
    "ax2.set_ylabel('Error')\n",
    "fig.tight_layout()\n",
    "plt.show()"
   ]
  },
  {
   "cell_type": "markdown",
   "metadata": {
    "id": "4xzDuU6M0P1j"
   },
   "source": [
    "There is also a variant of the pseudoinverse called the *weighted\n",
    "pseudoinverse* in which the solution does not minimize $\\| x \\|$ but\n",
    "rather minimizes a weighted norm $x^T W x$ where $W$ is a symmetric\n",
    "weight matrix. In the context of IK, $W$ is usually a diagonal matrix\n",
    "that weights the relative movement of each joint, with higher weights\n",
    "penalizing larger movements. \n",
    "\n",
    "#### Step direction and size, divergence\n",
    "\n",
    "In total, the Newton-Raphson method chooses the step direction as\n",
    "follows:\n",
    "$$\\label{eq:NewtonRaphsonStep}\n",
    "\\Delta \\mathbf{q}_i = - J^+(\\mathbf{q}_i) f(\\mathbf{q}_i)\n",
    "$$\n",
    "\n",
    "Unfortunately, Newton's method does not always converge if the initial\n",
    "guess is too far from a root. The sequence of iterates may oscillate or\n",
    "even diverge toward infinity. The step size may also become huge as the\n",
    "robot approaches a singularity, where taking the inverse effectively approaches\n",
    "dividing by zero. \n",
    "\n",
    "In the following example, the 4R robot is asked to reach the point (2,0.001) from the outstretched configuration $q=(0,0,0,0)$.  Since the robot starts at a singularity, the initial step size is huge!  It moves over 1,000 rad, which almost certainly would not be a preferred solution."
   ]
  },
  {
   "cell_type": "code",
   "execution_count": 7,
   "metadata": {
    "cellView": "form",
    "code_folding": [
     0
    ],
    "id": "EC4TqL-u0P1j",
    "outputId": "49bf7eb3-efb0-48e8-a2fb-c89a121d80d8"
   },
   "outputs": [
    {
     "data": {
      "image/png": "[encoded data removed]",
      "text/plain": [
       "<Figure size 1200x400 with 3 Axes>"
      ]
     },
     "metadata": {},
     "output_type": "display_data"
    }
   ],
   "source": [
    "#@title Code for the large step size Newton-Raphson example\n",
    "\n",
    "xD = np.array([2.0,0.001])\n",
    "q0 = np.array([0,0,0,0])\n",
    "\n",
    "trace = basic_newton(q0,10)\n",
    "xy = [fk_all(q)[-1] for q in trace]\n",
    "err = [error(q) for q in trace]\n",
    "fig = plt.figure(figsize=(12,4))\n",
    "ax1 = fig.add_subplot(131)\n",
    "ax1.plot(range(1,len(trace)),[np.linalg.norm(trace[i]-trace[i-1]) for i in range(1,len(trace))])\n",
    "ax1.set_ylabel('Step size')\n",
    "ax1.set_xlabel('Iteration')\n",
    "ax2 = fig.add_subplot(132)\n",
    "ax2.plot([v[0] for v in xy],[v[1] for v in xy])\n",
    "ax2.scatter([xD[0]],[xD[1]],color='r',zorder=2)\n",
    "ax2.set_xlabel('x')\n",
    "ax2.set_ylabel('y')\n",
    "ax2.axis('equal')\n",
    "ax3 = fig.add_subplot(133)\n",
    "ax3.semilogy(range(len(err)),err)\n",
    "ax3.set_xlabel('Iterations')\n",
    "ax3.set_ylabel('Error')\n",
    "fig.tight_layout()\n",
    "plt.show()"
   ]
  },
  {
   "cell_type": "markdown",
   "metadata": {
    "id": "tPlIPh3n0P1k"
   },
   "source": [
    "<a id=\"line-search\"></a>\n",
    "There are multiple ways of keeping the step size small. One\n",
    "straightforward method is known as a *line search*, in which the entire\n",
    "step $\\Delta \\mathbf{q}_i$ is not taken, but rather a scaled step\n",
    "$$\n",
    "  \\mathbf{q}_{i+1} = \\mathbf{q}_i + \\alpha_i \\Delta \\mathbf{q}_i\n",
    "$$\n",
    "is taken, with\n",
    "$\\alpha_i > 0$ a parameter chosen at each step. The step size is usually\n",
    "taken to obtain a sufficient decrease in the error function value. One\n",
    "simple way of doing this is to start with some value of $\\alpha_i$, and\n",
    "if it increases the error function value, then to scale it by some\n",
    "number $< 1$. This repeats until a suitable step size is found. A\n",
    "decrease will be eventually found as $\\alpha_i$, unless the problem is\n",
    "at a local minimum, or a numerical error has occurred.\n",
    "\n",
    "Another method is to penalize steps that are too large in the\n",
    "pseudoinverse itself, which is known as a *damped pseudoinverse* method. In this method, the step size is allowed to deviate from solving the\n",
    "root finding problem by instead minimizing the regularized least squares\n",
    "function:\n",
    "$$\n",
    "  \\min_{\\Delta \\mathbf{q}} \\| f(\\mathbf{q}) + J(\\mathbf{q})\\Delta \\mathbf{q} \\|^2 + \\gamma^2 \\| \\Delta \\mathbf{q} \\|^2.\n",
    "$$\n",
    "The $\\gamma$ term affects how much the step length is penalized compared\n",
    "to the error term. It can be shown that the result is simply\n",
    "$$\n",
    "  J^+_\\gamma = V (\\Sigma + \\gamma I)^{-1} U^T\n",
    "$$\n",
    "where $U \\Sigma V^T$ is the SVD of $J(\\mathbf{q})$.\n",
    "\n",
    "As the figure below shows, the damped pseudoinverse regulates the step size more strongly as $\\gamma$ increases.  However, this comes at a cost of a slower convergence rate.  Adding a line search is extremely helpful, as the initial step size is not too large and the error is guaranteed not to increase on each step.\n"
   ]
  },
  {
   "cell_type": "code",
   "execution_count": 8,
   "metadata": {
    "cellView": "form",
    "code_folding": [
     0
    ],
    "id": "mYMQG62p0P1k",
    "outputId": "41029699-6814-4afc-bdf7-9d172c8dd7ac"
   },
   "outputs": [
    {
     "data": {
      "image/png": "[encoded data removed]",
      "text/plain": [
       "<Figure size 1200x400 with 3 Axes>"
      ]
     },
     "metadata": {},
     "output_type": "display_data"
    }
   ],
   "source": [
    "#@title Code for the damped pseudoinverse + line search figures\n",
    "\n",
    "def damped_pinv(A,gamma):\n",
    "    u,s,vh = np.linalg.svd(A)\n",
    "    #only take the first K rows\n",
    "    vh = vh[:len(s),:]\n",
    "    s += np.array([gamma]*len(s))\n",
    "    sinv = np.divide(1.0,s)\n",
    "    return np.dot(np.dot(vh.T,np.diag(sinv)),u.T)\n",
    "\n",
    "def damped_newton(q0,N,gamma):\n",
    "    #uses damped pseudoinverse to determine newton step\n",
    "    trace = [q0]\n",
    "    for i in range(N):\n",
    "        q = trace[-1]\n",
    "        J = damped_pinv(fk_jac(q),gamma)\n",
    "        f = fk_all(q)[-1] - xD\n",
    "        dq = -np.dot(J,f)\n",
    "        qnext = q+dq\n",
    "        trace.append(qnext)\n",
    "    return trace\n",
    "\n",
    "def damped_newton_linesearch(q0,N,gamma):\n",
    "    #uses damped pseudoinverse and simple line search with bisection to determine newton step\n",
    "    trace = [q0]\n",
    "    for i in range(N):\n",
    "        q = trace[-1]\n",
    "        J = damped_pinv(fk_jac(q),gamma)\n",
    "        f = fk_all(q)[-1] - xD\n",
    "        dq = -np.dot(J,f)\n",
    "        alpha = 1.0\n",
    "        f0 = np.dot(f,f)\n",
    "        while alpha > 1e-6:\n",
    "            qnext = q+alpha*dq\n",
    "            f = fk_all(qnext)[-1] - xD\n",
    "            fnext = np.dot(f,f)\n",
    "            if fnext < f0:\n",
    "                break\n",
    "            else:\n",
    "                alpha *= 0.5\n",
    "        trace.append(qnext)\n",
    "    return trace\n",
    "\n",
    "fig = plt.figure(figsize=(12,4))\n",
    "ax1 = fig.add_subplot(131)\n",
    "ax2 = fig.add_subplot(132)\n",
    "ax3 = fig.add_subplot(133)\n",
    "\n",
    "N=20\n",
    "gammas = [1,0.1,0.01,0.001]\n",
    "for gamma in gammas:\n",
    "    label = '$\\gamma$='+str(gamma)\n",
    "    trace = damped_newton(q0,N,gamma)\n",
    "    xy = [fk_all(q)[-1] for q in trace]\n",
    "    err = [error(q) for q in trace]\n",
    "    ax1.plot(range(1,len(trace)),[np.linalg.norm(trace[i]-trace[i-1]) for i in range(1,len(trace))],label=label)\n",
    "    ax2.plot([v[0] for v in xy],[v[1] for v in xy])\n",
    "    ax2.scatter([xD[0]],[xD[1]],color='r',zorder=2)\n",
    "    ax3.semilogy(range(len(err)),err)\n",
    "label = '$\\gamma$=0.001 + linesearch'\n",
    "trace = damped_newton_linesearch(q0,N,0.001)\n",
    "xy = [fk_all(q)[-1] for q in trace]\n",
    "err = [error(q) for q in trace]\n",
    "ax1.plot(range(1,len(trace)),[np.linalg.norm(trace[i]-trace[i-1]) for i in range(1,len(trace))],label=label)\n",
    "ax2.plot([v[0] for v in xy],[v[1] for v in xy])\n",
    "ax2.scatter([xD[0]],[xD[1]],color='r',zorder=2)\n",
    "ax3.semilogy(range(len(err)),err)   \n",
    "\n",
    "ax1.set_ylabel('Step size')\n",
    "ax1.set_xlabel('Iteration')\n",
    "ax1.legend()\n",
    "ax2.set_xlabel('x')\n",
    "ax2.set_ylabel('y')\n",
    "ax2.axis('equal')\n",
    "ax3.set_xlabel('Iterations')\n",
    "ax3.set_ylabel('Error')\n",
    "\n",
    "fig.tight_layout()\n",
    "plt.show()"
   ]
  },
  {
   "cell_type": "markdown",
   "metadata": {
    "id": "mgvTMQsd0P1l"
   },
   "source": [
    "### Minimization methods\n",
    "\n",
    "Minimization methods attempt to minimize the error function\n",
    "$\\| f(\\mathbf{q}) \\|$ (usually expressed as minimizing squared error\n",
    "$\\| f(\\mathbf{q}) \\|^2$ for ease of computation). They are similar to\n",
    "root-finding methods, but produce more \"reasonable\" results when a\n",
    "solution does not exist, since the result should be as close as possible\n",
    "to attaining the target task. The simplest method is *gradient descent*\n",
    "but higher-order methods are also available as described in\n",
    "[Appendix B.2](Optimization.ipynb#Gradient-descent).\n",
    "\n",
    "### Incorporating other constraints\n",
    "\n",
    "Soft preferences, such as minimizing $g(\\mathbf{q})$ can designate other\n",
    "desired criteria to be achieved in redundant systems. In minimization\n",
    "methods, preferences can be formulated by augmenting the objective\n",
    "function with a small cost term: $\\|f(\\mathbf{q})\\|^2 + \\epsilon g(\\mathbf{q})$.\n",
    "The drawback of this approach is that if $\\epsilon$ is too large, the\n",
    "optimum of the augmented objective will no longer meet the task\n",
    "constraint, but if it is too small then it will not significantly affect\n",
    "the descent direction. In root finding methods, the direction of each\n",
    "step can be optimized in the null space of the task Jacobian to move in\n",
    "the gradient descent direction $-\\nabla g(\\mathbf{q})$ while also respecting\n",
    "the constraint. Specifically, the null space projection is given by\n",
    "$-(I - J^+ J ) \\nabla g(\\mathbf{q})$ which can be added onto the step\n",
    "direction (with some scaling factor).\n",
    "\n",
    "The easiest type of hard constraint to incorporate is joint limits,\n",
    "where each joint $q_i$ is limited to the range $[a_i,b_i]$. In numerical\n",
    "methods each iterate can be limited to the hyper-box\n",
    "$[a_1,b_1] \\times \\cdots \\times [a_n,b_n]$ simply by projecting each\n",
    "joint value into its range. For even faster convergence when a joint is\n",
    "meeting its joint limit, higher order methods (Newton-Raphson, Newton,\n",
    "and Quasi-Newton methods) will eliminate the direction of motion from\n",
    "consideration when determining the step size. In Newton-Raphson, this is\n",
    "done by setting the column of the Jacobian matrix corresponding to\n",
    "constrained joints to zero before computing the pseudoinverse. In\n",
    "Newton and Quasi-Newton optimization, both the row and column of the\n",
    "Hessian matrix are eliminated before inversion.\n",
    "\n",
    "More complex constraints, such as obstacle avoidance, may be expressed\n",
    "in the form $h(\\mathbf{q}) \\leq 0$, but are harder to accommodate. It is not\n",
    "appropriate to simply check the feasibility of the solution after\n",
    "optimizing, since it will very likely be infeasible. More sophisticated\n",
    "constrained optimization models, like nonlinear programming, express all\n",
    "constraints simultaneously and solve them using more advanced methods\n",
    "like sequential quadratic programming. Such methods are outside of the\n",
    "scope of this book.\n",
    "\n",
    "### Local minimum issues\n",
    "\n",
    "All numerical methods presented above suffer from the issue of *local\n",
    "minima*, in which the error cannot be reduced with local movements, but\n",
    "instead a large step is needed to make progress toward a solution.\n",
    "Imagining an error \"landscape\", the landscape may potentially have many\n",
    "peaks and valleys, and one valley will contain the true optimal\n",
    "solution. When an iterate is near a local minimum, the method would need\n",
    "to choose a step direction to jump out of the local minimum. However,\n",
    "such a direction is not obvious from local information.\n",
    "\n",
    "This is indeed a problem with numerical IK techniques, particularly in\n",
    "the presence of joint limits, because in practice, some significant\n",
    "fraction of seed configurations will not converge to a solution. The\n",
    "problem of finding a global solution is known as *global optimization*.\n",
    "\n",
    "#### CCD + optimization\n",
    "\n",
    "As mentioned above, CCD rarely falls into local minima, so an effective\n",
    "solution would be to combine CCD to get relatively close to an optimum,\n",
    "with some other optimization technique for the final convergence steps.\n",
    "\n",
    "#### Random restarts\n",
    "\n",
    "Another effective technique is known as *random restart* optimization.\n",
    "In this method, if the initial seed fails to yield a solution after\n",
    "local optimization, then a new seed is picked at random. This restart\n",
    "process is repeated up to $N$ times or until a solution is found.\n",
    "\n",
    "If the fraction of seed configurations that lead to failure is $p$, then\n",
    "the probability that this method leads to a failure is $p^N$, which is\n",
    "quite small for large $N$. In fact, the expected number of restarts\n",
    "needed to find a solution is $1/p$. The main drawback of random restarts\n",
    "is when the task is infeasible, then the entirety of the $N$ random\n",
    "restarts is required, which may be computationally expensive if $N$ is\n",
    "large.\n",
    "\n",
    "#### Simulated annealing\n",
    "\n",
    "Another method is simulated annealing, which uses random jumps in\n",
    "configuration space and accepts error-increasing steps with some\n",
    "probability. This and other related methods, like evolutionary\n",
    "algorithms, are known as metaheuristics, and can lead to high-quality\n",
    "solutions where other techniques fail. However, in practice, these\n",
    "techniques are much slower to converge than competing techniques.\n",
    "\n",
    "#### IK databases\n",
    "\n",
    "The final approach we will mention is a data-driven method. First, in a\n",
    "preprocessing step, IK solutions are tabulated for a large number of\n",
    "points in task space, computed exhaustively using some other global\n",
    "optimization method. Then, when a new IK problem is queried, the nearest\n",
    "task point to the query point is retrieved, and the prior solution is\n",
    "used as a seed. When a large number of solutions have been previously\n",
    "computed, the retrieved solution is likely to be very close to the\n",
    "globally optimal solution to the new problem."
   ]
  },
  {
   "cell_type": "markdown",
   "metadata": {
    "id": "yuJbX3JD4nkf"
   },
   "source": [
    "Applying IK in practice\n",
    "-----------------------"
   ]
  },
  {
   "cell_type": "markdown",
   "metadata": {
    "id": "9trIXS5J0P1l"
   },
   "source": [
    "### Programming task spaces\n",
    "\n",
    "One issue we have not yet addressed is how to define IK problems on a\n",
    "computer rather than mathematically. This is not so much of a problem\n",
    "with analytical methods --- you have spent hours deriving the solution\n",
    "and coding it up so you know exactly what the inputs and outputs need to\n",
    "be. But the strength of numerical methods is that you can very easily\n",
    "change the IK problem you'd like to solve. If your robot is supposed to\n",
    "pick up a cup, hold it upright during transit, and then place it\n",
    "somewhere on a table, you will need to solve three entirely different IK\n",
    "problems! How should they be specified?\n",
    "\n",
    "Each IK software library has some data structure to specify a primitive\n",
    "*task*, which is usually a Cartesian goal for one link of the robot. So,\n",
    "in basic form a task is specified by a link index $L$, and a desired\n",
    "rigid transform $T_L$ (from link to world coordinates). However, the\n",
    "user can configure which Cartesian components should be included to\n",
    "obtain different effects. The typical types of tasks available are\n",
    "position only, position and orientation, or orientation only. More\n",
    "sophisticated tasks may include position about some axes, orientation of\n",
    "some axis, or some combination of the two. These are enabled or disabled\n",
    "according to various flags.\n",
    "\n",
    "Taking our cup-picking problem as an example:\n",
    "\n",
    "-   To pick up a cup, the robot's hand should be constrained to a\n",
    "    position $\\mathbf{x}_G$ and orientation $R_G$ so that it makes contact\n",
    "    with the cup (a grasp pose). This would be a *fixed* constraint,\n",
    "    with a 6D task space.\n",
    "\n",
    "-   Next, while keeping the cup oriented upward, the orientation of the\n",
    "    hand about the $z$ axis should be kept constant. This means that our\n",
    "    constraint is the $z$ axis in the hand's local frame, $R_G^T \\mathbf{z}$,\n",
    "    should be matched to $\\mathbf{z}$ in world coordinates. Since we don't\n",
    "    care about position, and we don't care how the robot rotates about\n",
    "    $z$, this would be an *axis* constraint, which has a 2D task space.\n",
    "\n",
    "-   Finally, while putting the cup down on a flat surface, we don't care\n",
    "    too much about where on the surface the cup gets placed, but we do\n",
    "    need the cup to stay upright and the bottom of the cup to be at a\n",
    "    height $z_S$. So, we need to include the prior orientation\n",
    "    constraint, plus an additional 1D position constraint. To implement\n",
    "    this, we can compute one point on the bottom of the cup in local\n",
    "    coordinates of the hand. Let's say we recorded such a point\n",
    "    $\\mathbf{x}_B$ in world coordinates back when we first picked up the cup.\n",
    "    In hand-local coordinates, this point is $R_G^T(\\mathbf{x}_B - \\mathbf{x}_G)$.\n",
    "    Now, the new world coordinates of this point need to be at height\n",
    "    $z_S$, which is a *plane* constraint.\n",
    "\n",
    "To implement an axis constraint, a local direction $\\mathbf{d}_L$ is matched\n",
    "to a world direction $\\mathbf{d}_D$. Such a constraint can be specified with\n",
    "a flag and either 1) $\\mathbf{d}_L$, $\\mathbf{d}_D$, or 2) $T_L$ and either\n",
    "direction (the other quantity can be derived from $T_L$).\n",
    "\n",
    "To implement a plane constraint, $T_L$ and the normal to the plane in\n",
    "world coordinates $\\mathbf{n}$ must be specified.\n",
    "\n",
    "Support of these various tasks is mixed in various software packages.\n",
    "Klamp't supports arbitrary numbers of tasks, each of which can have\n",
    "position and orientation components enabled or disabled. The data\n",
    "structure that specifies each task is called an IKObjective. Orocos KDL\n",
    "only supports tasks that define a full Cartesian transform of a link.\n",
    "\n",
    "The OpenRAVE ikfast module supports several task types, each of which\n",
    "constrains some combination position and orientation components (11 as\n",
    "of time of writing). This module is noteworthy in that it provides a\n",
    "method to derive analytic IK expressions for your robot; after a few\n",
    "minutes to an hour of computation, it generates code that can be\n",
    "compiled to solve IK problems very quickly (and exhaustively). It does\n",
    "require that you know your task spaces well in advance, and it does\n",
    "sometimes fail to generate expressions for certain kinematic structures."
   ]
  },
  {
   "cell_type": "markdown",
   "metadata": {
    "id": "5B3bDIHx4yLw"
   },
   "source": [
    "### Common problems\n",
    "\n",
    "Using IK can be fraught with bugs if used carelessly. Usually when an\n",
    "engineer uses IK, he/she is trying to program a high-level specification\n",
    "of some application as quickly as possible, and can quickly gloss over\n",
    "*whether enough information is available* to employ IK properly.\n",
    "\n",
    "Let us recap all of the items necessary to employ IK on a robot.\n",
    "\n",
    "-   The robot's kinematic structure is known.\n",
    "\n",
    "-   The coordinates of the tool center point are known.\n",
    "\n",
    "-   The coordinate frame of the end effector link is known.\n",
    "\n",
    "-   A rotation matrix defining the desired orientation of the end\n",
    "    effector link is known.\n",
    "\n",
    "-   All coordinates are given with respect to the assumed reference\n",
    "    frame (and units) of the solver.\n",
    "\n",
    "Minor positioning errors can occur if any of these values are not\n",
    "properly *calibrated*, i.e., measured to high accuracy. We will revisit\n",
    "calibration a later chapter. However, major errors can result if\n",
    "reference coordinate frames are misunderstood or interpreted\n",
    "incorrectly.\n",
    "\n",
    "For example, suppose the reference frame of the end effector link has\n",
    "the gripper fingers pointing in the $z$ direction and open by traveling\n",
    "along the $x$ axis direction. But, suppose the programmer assumed that\n",
    "fingers point in the $x$ direction and $z$ is the local axis as though\n",
    "the robot were picking up a cup. Then by specifying the identity matrix\n",
    "as the end effector orientation, --- a seemingly sensible orientation to\n",
    "lift a cup with this mistaken frame convention --- the programmer will\n",
    "have asked the robot to grab the cup with fingers pointing straight\n",
    "upward! This is why it is so important to adopt strict and explicit\n",
    "coordinate conventions, and also to test in simulation. Now, a careless\n",
    "programmer might test the solver on the real robot\\... and if the IK\n",
    "solver succeeds, then the robot will be driven straight through the\n",
    "table! It is much better to start in simulation: ideally the IK solver\n",
    "will succeed with a bizarre configuration, which, upon inspection, suggests a bug. If the IK\n",
    "solver fails, the programmer needs to do more digging to discover the\n",
    "root of the problem. To help this, visualization tools can be used in\n",
    "the process of *visual debugging* to inspect reference frames and\n",
    "variables in a more intuitive way than looking at numbers.\n",
    "\n",
    "Moreover, if analytical IK is being used, the following must also hold:\n",
    "\n",
    "-   The task space defined by the IK subroutine match that of your\n",
    "    application.\n",
    "\n",
    "-   The robot structure matches that assumed by the IK subroutine\n",
    "    (including joint axes, link frame conventions, etc).\n",
    "\n",
    "-   Joint values are 0 at the robot's assumed reference position.\n",
    "\n",
    "-   The first joint (or the first set of intersecting joints) of the\n",
    "    robot is at the origin of the world frame.\n",
    "\n",
    "If any of these do not hold, it is the responsibility of the user of the\n",
    "subroutine to calculate the appropriate Cartesian transformations to\n",
    "transform the input appropriately, and to apply the appropriate joint\n",
    "offsets to transform the output appropriately."
   ]
  },
  {
   "cell_type": "markdown",
   "metadata": {
    "id": "VXk3fXjY4uMg"
   },
   "source": [
    "### IK and Cartesian motion\n",
    "\n",
    "IK is commonly used in two ways:\n",
    "\n",
    "* To determine an endpoint for a motion.\n",
    "\n",
    "* To move a robot's end effector along a given task space path, such as a straight line in workspace. \n",
    "\n",
    "In Case 1, we may simply determine a desired joint space value $q_D$ that matches the end effector\n",
    "$\\mathbf{x}(q_D)$ maps to the task space coordinates $\\mathbf{x}_D$.  Then, the robot can move from the current value\n",
    "of $q$ to $q_D$ in a straight line in joint space. However, as [we have seen before](#Nonlinear-mapping-between-C-space-and-workspace),\n",
    "such a motion does not usually move in a straight line in workspace due to the nonlinearity of forward kinematics.  If we want the end effector to move in a designated Cartesian trajectory, then we must be more careful.\n",
    "\n",
    "Case 2 is a *Cartesian path following* problem, which asks to generate a trajectory $q(t)$ so that $\\mathbf{x}(q(t)) = \\mathbf{x}_D(t)$ for $t\\in[0,1]$.  It may be tempting to simply write an algorithm like this:\n",
    "\n",
    "*************\n",
    "\n",
    "<a name=\"alg:NaivePathFollowing\">Algorithm 1</a>. **Naive Cartesian path following**\n",
    "\n",
    "1. Let $q_0$ be the current configuration\n",
    "\n",
    "2. **For** $i=1,\\ldots,N$:\n",
    "\n",
    "3. &nbsp;&nbsp;&nbsp;Let $t=i/N$.\n",
    "\n",
    "4. &nbsp;&nbsp;&nbsp;Use a IK solver to find $q$ satisfying $\\mathbf{x}(q) = \\mathbf{x}_D(t)$, picking the solution closest to $q_{i-1}$.\n",
    "\n",
    "5.  &nbsp;&nbsp;&nbsp;$q_i \\gets q$.\n",
    "\n",
    "6. **Return** the joint space path connecting $q_0,q_1,\\ldots,q_N$\n",
    "\n",
    "*************\n",
    "\n",
    "For example, in step 4, a numerical IK method may simply use $q_{i-1}$ as the initial seed.  An analytical method for a nonredundant robot should enumerate all solutions and pick the closest one.  The choice of the resolution $N$ is also important, because it will determine how closely $\\mathbf{x}(q(t))$ tracks the desired trajectory.  For example, if a long screw needs to be drilled along a precise path, a very fine resolution will be needed.  In fact, industrial robot controllers will solve these problems at or near the control frequency (several hundreds of times per second)\n",
    "\n",
    "It is important to note that there are a number of caveats that may cause this procedure to fail or to create unusual artifacts: \n",
    "\n",
    "1.  The configuration may run into joint limits, preventing further progress.\n",
    "\n",
    "2.  Picking an IK solution that causes collisions.\n",
    "\n",
    "3.  Passing through or near singularities, causing the desired joint\n",
    "    velocities to exceed their limits.\n",
    "\n",
    "4.  Tolerances of numerical methods can cause small but noticeable\n",
    "    oscillations (or large jumps near singularities).\n",
    "\n",
    "Making naive Cartesian tracking more robust is a topic studied deeply in motion planning and robot control engineering, and is beyond the scope of an introductory text."
   ]
  },
  {
   "cell_type": "markdown",
   "metadata": {
    "id": "15R6OSw70P1o"
   },
   "source": [
    "Summary\n",
    "-------\n",
    "\n",
    "### Key takeaways\n",
    "\n",
    "-   Inverse kinematics (IK) attempts to find a configuration (or\n",
    "    configurations) for an end effector to reach a Cartesian target.\n",
    "\n",
    "-   The task space defines whether the Cartesian target indicates\n",
    "    position, orientation, or some subset of those parameters. The task\n",
    "    space can also include targets for multiple end effectors.\n",
    "\n",
    "-   Analytical IK inverts the forward kinematics equations using\n",
    "    geometric and/or algebraic reasoning. They produce all solutions for\n",
    "    non-redundant robots, but rely on analysis of a known structure and\n",
    "    task space.\n",
    "\n",
    "-   The Jacobian is the matrix of partial derivatives of the forward\n",
    "    kinematics function. It relates joint velocities to task space\n",
    "    velocities.\n",
    "\n",
    "-   The Jacobian can be used for a variety of calculations, including\n",
    "    singularity identification and numerical IK.\n",
    "\n",
    "-   Numerical IK methods iteratively move a guessed configuration toward\n",
    "    an IK solution by progressively reducing the error of the constraint\n",
    "    function.\n",
    "\n",
    "-   Numerical IK methods are prone to falling into local minima. Random\n",
    "    restarts or good initial guesses are needed to improve reliability.\n",
    "\n",
    "-   Some robot developers provide analytical IK solvers specific to\n",
    "    their mechanism. Many robotics software packages provide numerical\n",
    "    IK solvers for general mechanisms."
   ]
  },
  {
   "cell_type": "markdown",
   "metadata": {},
   "source": [
    "### Glossary\n",
    "- [Inverse kinematics (IK)](#General-discussion): The process of calculating one or more solutions to the inverse of a kinematics problem.  Specifically, attempts to find a configuration such that Cartesian position / orientations on robot links match corresponding positions/orientations in the world (or on other links of the robot).\n",
    "- [Task space](#Task-space): The specification of a class of inverse kinematics objectives, constraining one or more target Cartesian positions and/or orientations of elements on the robot.  The set of possible Cartesian positions and/or orientations that may be specified as targets is the task space.\n",
    "- [Constraint equation](#constraint-equation): The vector-valued equation that should be met at a configuration that solves a given IK problem.\n",
    "- [Multiplicity of solutions](#Counting-solutions): Depending on the number of DOF of the robot and the values of the IK query, an IK query can have zero, a finite number, or an infinite number of solutions.  When a finite number of solutions exist, they are often composed of combinations of joint value pairs (e.g., shoulder-left/shoulder-right, elbow-up/elbow-down, and wrist-left/wrist-right).\n",
    "- [Singularity / singular configuration](#Singularities): A robot is at a singularity when the number of IK solutions for the given task space is unstable, i.e., the multiplicity of solutions may change if the configuration were perturbed by an infinitesimal value.  A singularity can be identified by a drop in the rank of the task Jacobian matrix.\n",
    "- [Redundancy](#Redundant-robots): A robot has redundancy when it has more DOF than the task space. A redundant robot can move its configuration while leaving the task coordinates unchanged. \n",
    "- [Self-motion manifold](#self-motion-manifold): The set of all configurations for a redundant robot that leave the task space coordinates unchanged. \n",
    "- [Jacobian matrix](#Jacobian-definition): The matrix of partial derivatives of a robot's task space variables with respect to its configuration variables.  Multiplication by this matrix relates joint-space velocities to task-space velocities.\n",
    "- [Analytical IK](#Analytical-vs-numerical-ik): Any IK approach that solves the constraint equation via mathematical manipulations.  \n",
    "- [Numerical IK](#Analytical-vs-numerical-ik): Any IK approach that solves the constraint equation by iteratively moving a guessed configuration to minimize the constraint error.\n",
    "- [Cyclic coordinate descent](#Cyclic-coordinate-descent)\n",
    "- [Newton-Raphson method / Jacobian pseudoinverse method](#Root-finding-methods): A numerical method based on driving the task-space error vector to zero via root-finding.  Uses the Jacobian pseudoinverse to solve the Taylor expansion of the constraint equation, and achieves superlinear convergence speeds.\n",
    "- [Line search](#line-search): A technique employed in many numerical IK techniques that prevents divergence and oscillation by shrinking the step direction computed at each iteration.\n",
    "- [Minimization methods](#Minimization-methods): Numerical methods that attempt to reduce the magnitude of the error function. If a solution does not exit, these methods are able to find the (locally) closest solution.\n",
    "- [Random restarts](#Random-restarts): A common method for avoiding local minima in numerical IK solvers that simply attempts IK solution from random initial guesses.\n",
    "- [Cartesian path following](#IK-and-Cartesian-motion): The process of generating a joint-space path that smoothly follows a given Cartesian path. A naive implementation of repeated numerical IK solving is adequate for many cases, but more elaborate methods are needed to achieve high reliability near singularities.  "
   ]
  },
  {
   "cell_type": "markdown",
   "metadata": {
    "id": "dShTD-RH0P1p"
   },
   "source": [
    "Exercises\n",
    "---------\n",
    "\n",
    "1.  Consider a planar \"spider robot\" with 3 arms, each consisting of a     2R manipulator, connected at a center point. Each of the \"hands\" (end effectors of each arm) must be placed at locations $\\mathbf{x}_1,\\mathbf{x}_2,\\mathbf{x}_3$, respectively. Define a configuration\n",
    "    space of the robot. What is the task space of the IK constraints?\n",
    "    What is the intrinsic dimension of the self-motion manifold? For\n",
    "    what values of $\\mathbf{x}_1,\\mathbf{x}_2,\\mathbf{x}_3$ would the solution space be\n",
    "    empty?\n",
    "\n",
    "2.  Derive an analytical IK solution for a 3R planar manipulator with\n",
    "    both position and orientation tasks. Hint: start by considering the\n",
    "    desired location of the third joint, and use the planar 2R solution\n",
    "    to place the third joint there.\n",
    "\n",
    "3.  Derive an analytical IK solution for the 3R 3D manipulator (ZYY) in\n",
    "    the general case where the end effector has local coordinates\n",
    "    $\\mathbf{x}_3$ on the third link, and the task is to place the end\n",
    "    effector at coordinates $\\mathbf{x}$.\n",
    "\n",
    "4.  Derive the configuration space for a closed 4-bar linkage with link\n",
    "    lengths $L_1,\\ldots,L_4$, assuming the first bar is fixed in world\n",
    "    coordinates.\n",
    "\n",
    "5.  Perform error propagation to derive an expression relating joint\n",
    "    space error to the maximum possible Cartesian end effector\n",
    "    positioning error of an $n$R planar serial robot with unit length\n",
    "    links. At what configurations is the maximum error achieved?\n",
    "\n",
    "6.  (Implementation) Experimentally evaluate how often a numerical IK solver falls into\n",
    "    local minima on a 6DOF manipulator. (For example, use the\n",
    "    `puma760.rob` or `tx90l.rob` model in Klamp't) To do so, sample some\n",
    "    number of reachable end effector transforms by sampling a\n",
    "    configuration at random. Then, for each of those transforms, and\n",
    "    attempt numerical IK using a seed configuration sampled at random.\n",
    "\n",
    "7.  (Implementation) Implement the naive Cartesian path following algorithm\n",
    "    for a simple robot (the 2R robot, for example).  Give it an input path $\\mathbf{x}_D(t)$ \n",
    "    so that all points along the path are reachable.  How finely do you need to discretize\n",
    "    the path so that the configuration space path, when interpolated, deviates from $\\mathbf{x}_D(t)$ \n",
    "    no more than 1mm?  Now input a path that goes unreachable.  What happens to the configurations\n",
    "    as you approach the limit?"
   ]
  },
  {
   "cell_type": "markdown",
   "metadata": {
    "tags": [
     "remove_cell_html"
    ]
   },
   "source": [
    "## Interactive quiz"
   ]
  },
  {
   "cell_type": "code",
   "execution_count": 9,
   "metadata": {
    "code_folding": [
     0
    ],
    "tags": [
     "remove_cell_html"
    ]
   },
   "outputs": [
    {
     "data": {
      "text/html": [
       "<link rel=\"stylesheet\" href=\"//stackpath.bootstrapcdn.com/font-awesome/4.7.0/css/font-awesome.min.css\"/>"
      ],
      "text/plain": [
       "<IPython.core.display.HTML object>"
      ]
     },
     "metadata": {},
     "output_type": "display_data"
    },
    {
     "data": {
      "application/vnd.jupyter.widget-view+json": {
       "model_id": "53efd4e2f03b4695a86049c6cf56f841",
       "version_major": 2,
       "version_minor": 0
      },
      "text/plain": [
       "VBox(children=(HTML(value='<style>\\n            .correct { background:#8f8;padding:10px 25px 10px 25px;width:4…"
      ]
     },
     "metadata": {},
     "output_type": "display_data"
    }
   ],
   "source": [
    "#This code must be run from the RoboticSystemsBook folder\n",
    "\n",
    "# If you are running on Google Colab, uncomment the following code:\n",
    "#\n",
    "# %cd ~\n",
    "# !git clone --depth 1 https://github.com/krishauser/RoboticSystemsBook\n",
    "# %cd RoboticSystemsBook\n",
    "\n",
    "from rsbook_code.assessment import quiz\n",
    "quiz.show('inverse_kinematics')"
   ]
  },
  {
   "cell_type": "markdown",
   "metadata": {
    "tags": [
     "remove_cell_html"
    ]
   },
   "source": [
    "## Interactive examples\n",
    "\n",
    "The following interactive examples require that you run this notebook via Binder or a local Jupyter Notebook installation.  Google Colab is not compatible. See [these instructions](Book.ipynb#Options-for-Working-with-Jupyter-Notebook) for more details."
   ]
  },
  {
   "cell_type": "markdown",
   "metadata": {},
   "source": [
    "### Planar 2R manipulator IK"
   ]
  },
  {
   "cell_type": "code",
   "execution_count": 10,
   "metadata": {
    "code_folding": [
     0
    ],
    "colab": {
     "referenced_widgets": [
      "4afb3f061b6745d38aaa995b57e76e9a",
      "08b282032baa4806958bb4a7971f99b5"
     ]
    },
    "id": "lPEpLgpN0P1q",
    "outputId": "32653af4-34fb-4229-8f26-d93bc40db4d2",
    "scrolled": false,
    "tags": [
     "remove_cell_html"
    ]
   },
   "outputs": [
    {
     "data": {
      "application/vnd.jupyter.widget-view+json": {
       "model_id": "4ab6a976f0d4461d84e54b9aea8d26b2",
       "version_major": 2,
       "version_minor": 0
      },
      "text/plain": [
       "KlamptWidgetAdaptor(height=400, rpc={'type': 'multiple', 'calls': [{'near': 0.1, 'target': {'y': 0, 'x': 0, 'z…"
      ]
     },
     "metadata": {},
     "output_type": "display_data"
    },
    {
     "data": {
      "application/vnd.jupyter.widget-view+json": {
       "model_id": "c99d229c81774f2a886be5bf28ca98c5",
       "version_major": 2,
       "version_minor": 0
      },
      "text/plain": [
       "VBox(children=(FloatSlider(value=0.0, description='x', max=2.0, min=-2.0, step=0.001), FloatSlider(value=0.0, …"
      ]
     },
     "metadata": {},
     "output_type": "display_data"
    }
   ],
   "source": [
    "#Code for the interactive example (run me!)\n",
    "import time\n",
    "from klampt import *\n",
    "from klampt.math import so3,vectorops\n",
    "from klampt.model import ik\n",
    "import math\n",
    "from IPython.display import HTML,clear_output\n",
    "import ipywidgets as widgets\n",
    "from klampt.vis import ipython as ipyklampt\n",
    "\n",
    "world = WorldModel()\n",
    "world.readFile(\"data/planar2R.rob\")\n",
    "robot = world.robot(0)\n",
    "ee_local = (1,0,0)  #end effector coordinates\n",
    "robot.link(0).appearance().setColor(0.4,0.4,0.4)\n",
    "robot.link(1).appearance().setColor(0.2,0.2,0.2)\n",
    "#joint limits\n",
    "qmin = [-math.pi/2,-math.pi/2]\n",
    "qmax = [math.pi/2,math.pi/2]\n",
    "robot.setJointLimits(qmin,qmax)\n",
    "vis.init(\"IPython\")\n",
    "vis.resizeWindow(400,400)\n",
    "vis.add(\"world\",world)\n",
    "\n",
    "#look down\n",
    "vis.setViewport({u'near': 0.1, u'target': {u'y': 0, u'x': 0, u'z': 0}, u'far': 1000, u'position': {u'y': 6.702563444149367, u'x': 0.27057631353305844, u'z': -0.049312632332197764}, u'up': {u'y': 0.44113772676914204, u'x': -0.003726563135538217, u'z': -0.897431679153433}})\n",
    "#add a ghost\n",
    "vis.add(\"ghost\",robot.getConfig(),color=(0,1,0,0.5))\n",
    "\n",
    "EPSILON = 1e-8\n",
    "L1 = 1.0\n",
    "L2 = 1.0\n",
    "\n",
    "def ik_2R_analytical(L1,L2,x,y):\n",
    "    \"\"\"Solve IK for a 2R robot with link lengths L1 and L2.\n",
    "    \n",
    "    Returns a pair (N,solutions)\n",
    "    - N: number of solutions (can be 0, 1, 2, or infinity)\n",
    "    - solutions: a tuple of solution configurations. If N=infinity,\n",
    "      solutions is the tuple (None,q2).\n",
    "    \"\"\"\n",
    "    r2 = x**2+y**2\n",
    "    c2 = (r2-L1**2-L2**2)/(2*L1*L2)\n",
    "    if c2 > 1.0 or c2 < -1.0:\n",
    "        return (0,())\n",
    "    q2_1 = math.acos(c2)\n",
    "    q2s = [q2_1]\n",
    "    if abs(q2_1) > EPSILON and abs(q2_1-math.pi) > EPSILON:\n",
    "        q2s.append(-q2_1)\n",
    "    solns = []\n",
    "    for q2 in q2s:\n",
    "        ex = 1.0+math.cos(q2)\n",
    "        ey = math.sin(q2)\n",
    "        if abs(ex)<EPSILON and abs(ey) < EPSILON:\n",
    "            #infinite solutions\n",
    "            return (float('inf'),(None,q2))\n",
    "        theta = math.atan2(y,x)\n",
    "        etheta = math.atan2(ey,ex)\n",
    "        solns.append((theta-etheta,q2))\n",
    "    return (len(solns),solns)\n",
    "\n",
    "def ik_2R_numerical(q0,x,y):\n",
    "    robot.setConfig(q0)\n",
    "    obj = ik.objective(robot.link(1),local=ee_local,world=(x,y,0))\n",
    "    solver = ik.solver(obj)\n",
    "    solver.solve()\n",
    "    return q0\n",
    "\n",
    "#called whenever configuration is edited\n",
    "link0_vis_path = vis.getItemName(robot.link(0))\n",
    "link1_vis_path = vis.getItemName(robot.link(1))\n",
    "def point_update_cb(point):\n",
    "    global L1,L2\n",
    "    N,solns = ik_2R_analytical(L1,L2,point[0],point[1])\n",
    "    if N == 0:\n",
    "        #no solution\n",
    "        vis.setColor(link0_vis_path,1,0,0)\n",
    "        vis.setColor(link1_vis_path,1,0,0)\n",
    "    elif N == 1 or N == 2:\n",
    "        vis.setColor(link0_vis_path,0.4,0.4,0.4)\n",
    "        vis.setColor(link1_vis_path,0.2,0.2,0.2)\n",
    "        robot.setConfig(solns[0])\n",
    "        vis.add(\"ghost\",solns[1],color=(0,1,0,0.5))\n",
    "    else:\n",
    "        #infinite solutions\n",
    "        vis.setColor(link0_vis_path,1,1,0)\n",
    "        vis.setColor(link1_vis_path,1,1,0)\n",
    "        robot.setConfig((0,solns[0][1]))\n",
    "    vis.update()\n",
    "pt = [0,0,0]\n",
    "point_widget = ipyklampt.EditPoint(pt,[-2,-2,-1],[2,2,1],klampt_widget=vis.nativeWindow(),callback=point_update_cb)\n",
    "\n",
    "vis.show()\n",
    "display(point_widget)"
   ]
  },
  {
   "cell_type": "markdown",
   "metadata": {
    "id": "o2NPk4vN0P1r"
   },
   "source": [
    "### 6R manipulator IK"
   ]
  },
  {
   "cell_type": "code",
   "execution_count": 11,
   "metadata": {
    "code_folding": [
     0
    ]
   },
   "outputs": [
    {
     "data": {
      "application/vnd.jupyter.widget-view+json": {
       "model_id": "0a500ed624164e668dc652e774f90784",
       "version_major": 2,
       "version_minor": 0
      },
      "text/plain": [
       "KlamptWidgetAdaptor(height=400, rpc={'type': 'multiple', 'calls': [{'type': 'add_xform', 'name': 'edited_xform…"
      ]
     },
     "metadata": {},
     "output_type": "display_data"
    },
    {
     "data": {
      "application/vnd.jupyter.widget-view+json": {
       "model_id": "1cfb6cfcf38343478a3ca94687589a0d",
       "version_major": 2,
       "version_minor": 0
      },
      "text/plain": [
       "VBox(children=(FloatSlider(value=6.283185307179586, description='roll', max=6.283185307179586, step=0.001), Fl…"
      ]
     },
     "metadata": {},
     "output_type": "display_data"
    }
   ],
   "source": [
    "#Code for the interactive example (run me!)\n",
    "import time\n",
    "from klampt import *\n",
    "from klampt.math import so3,se3,vectorops\n",
    "from klampt.model import ik\n",
    "import math\n",
    "from IPython.display import HTML,clear_output\n",
    "import ipywidgets as widgets\n",
    "from klampt.vis import ipython as ipyklampt\n",
    "\n",
    "world = WorldModel()\n",
    "world.readFile(\"data/tx90l.rob\")\n",
    "robot = world.robot(0)\n",
    "\n",
    "ee_link_index = robot.numLinks()-1\n",
    "ee_link = robot.link(ee_link_index)\n",
    "ee_local = (0,0,0)  #end effector coordinates\n",
    "vis.init(\"IPython\")\n",
    "vis.createWindow()\n",
    "vis.resizeWindow(400,400)\n",
    "vis.add(\"world\",world)\n",
    "\n",
    "#called whenever configuration is edited\n",
    "def point_update_cb(xform):\n",
    "    R,t = xform\n",
    "    obj = ik.objective(ee_link,R=R,t=t)\n",
    "    res = ik.solve(obj)\n",
    "    vis.clearText()\n",
    "    if res:\n",
    "        vis.addText(\"IKstatus\",\"IK solved!\",position=(5,5))\n",
    "    else:\n",
    "        txt = ','.join('%.2f'%(v,) for v in ik.residual(obj))\n",
    "        vis.addText(\"IKstatus\",\"IK failed, residual %s\"%(txt,),position=(5,5))\n",
    "    vis.update()\n",
    "xform = ee_link.getTransform()\n",
    "xform_widget = ipyklampt.EditTransform(xform,[-1.5,-1.5,0],[1.5,1.5,3],klampt_widget=vis.nativeWindow(),callback=point_update_cb)\n",
    "\n",
    "vis.show()\n",
    "display(xform_widget)"
   ]
  },
  {
   "cell_type": "code",
   "execution_count": null,
   "metadata": {},
   "outputs": [],
   "source": []
  }
 ],
 "metadata": {
  "colab": {
   "name": "InverseKinematics.ipynb",
   "provenance": []
  },
  "kernelspec": {
   "display_name": "robotics-book",
   "language": "python",
   "name": "python3"
  },
  "language_info": {
   "codemirror_mode": {
    "name": "ipython",
    "version": 3
   },
   "file_extension": ".py",
   "mimetype": "text/x-python",
   "name": "python",
   "nbconvert_exporter": "python",
   "pygments_lexer": "ipython3",
   "version": "3.10.16"
  },
  "latex_envs": {
   "LaTeX_envs_menu_present": false,
   "autoclose": false,
   "autocomplete": false,
   "bibliofile": "biblio.bib",
   "cite_by": "apalike",
   "current_citInitial": 1,
   "eqLabelWithNumbers": true,
   "eqNumInitial": 1,
   "hotkeys": {
    "equation": "Ctrl-E",
    "itemize": "Ctrl-I"
   },
   "labels_anchors": false,
   "latex_user_defs": false,
   "report_style_numbering": false,
   "user_envs_cfg": false
  },
  "toc": {
   "base_numbering": 1,
   "nav_menu": {},
   "number_sections": true,
   "sideBar": true,
   "skip_h1_title": true,
   "title_cell": "Table of Contents",
   "title_sidebar": "Contents",
   "toc_cell": false,
   "toc_position": {
    "height": "calc(100% - 180px)",
    "left": "10px",
    "top": "150px",
    "width": "278.517px"
   },
   "toc_section_display": true,
   "toc_window_display": true
  }
 },
 "nbformat": 4,
 "nbformat_minor": 1
}
